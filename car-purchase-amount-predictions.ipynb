{
 "cells": [
  {
   "cell_type": "code",
   "execution_count": 1,
   "id": "eb701d22",
   "metadata": {
    "execution": {
     "iopub.execute_input": "2024-02-07T15:17:01.789791Z",
     "iopub.status.busy": "2024-02-07T15:17:01.788856Z",
     "iopub.status.idle": "2024-02-07T15:17:04.030286Z",
     "shell.execute_reply": "2024-02-07T15:17:04.029149Z"
    },
    "papermill": {
     "duration": 2.253595,
     "end_time": "2024-02-07T15:17:04.033025",
     "exception": false,
     "start_time": "2024-02-07T15:17:01.779430",
     "status": "completed"
    },
    "tags": []
   },
   "outputs": [],
   "source": [
    "import pandas as pd\n",
    "import numpy as np\n",
    "import matplotlib.pyplot as plt\n",
    "import seaborn as sns\n"
   ]
  },
  {
   "cell_type": "code",
   "execution_count": 2,
   "id": "9d3b8969",
   "metadata": {
    "execution": {
     "iopub.execute_input": "2024-02-07T15:17:04.048535Z",
     "iopub.status.busy": "2024-02-07T15:17:04.048051Z",
     "iopub.status.idle": "2024-02-07T15:17:04.070551Z",
     "shell.execute_reply": "2024-02-07T15:17:04.069519Z"
    },
    "papermill": {
     "duration": 0.033236,
     "end_time": "2024-02-07T15:17:04.073238",
     "exception": false,
     "start_time": "2024-02-07T15:17:04.040002",
     "status": "completed"
    },
    "tags": []
   },
   "outputs": [],
   "source": [
    "car_df = pd.read_csv('/kaggle/input/car-purchasing-dataset/Car_Purchasing_Data.csv', encoding='ISO-8859-1')\n",
    "car_df.replace([np.inf, -np.inf], np.nan, inplace=True)\n"
   ]
  },
  {
   "cell_type": "code",
   "execution_count": 3,
   "id": "37ecff1b",
   "metadata": {
    "_cell_guid": "b1076dfc-b9ad-4769-8c92-a6c4dae69d19",
    "_uuid": "8f2839f25d086af736a60e9eeb907d3b93b6e0e5",
    "execution": {
     "iopub.execute_input": "2024-02-07T15:17:04.088985Z",
     "iopub.status.busy": "2024-02-07T15:17:04.088049Z",
     "iopub.status.idle": "2024-02-07T15:17:04.116347Z",
     "shell.execute_reply": "2024-02-07T15:17:04.115120Z"
    },
    "papermill": {
     "duration": 0.038355,
     "end_time": "2024-02-07T15:17:04.118632",
     "exception": false,
     "start_time": "2024-02-07T15:17:04.080277",
     "status": "completed"
    },
    "tags": []
   },
   "outputs": [
    {
     "data": {
      "text/html": [
       "<div>\n",
       "<style scoped>\n",
       "    .dataframe tbody tr th:only-of-type {\n",
       "        vertical-align: middle;\n",
       "    }\n",
       "\n",
       "    .dataframe tbody tr th {\n",
       "        vertical-align: top;\n",
       "    }\n",
       "\n",
       "    .dataframe thead th {\n",
       "        text-align: right;\n",
       "    }\n",
       "</style>\n",
       "<table border=\"1\" class=\"dataframe\">\n",
       "  <thead>\n",
       "    <tr style=\"text-align: right;\">\n",
       "      <th></th>\n",
       "      <th>Customer Name</th>\n",
       "      <th>Customer e-mail</th>\n",
       "      <th>Country</th>\n",
       "      <th>Gender</th>\n",
       "      <th>Age</th>\n",
       "      <th>Annual Salary</th>\n",
       "      <th>Credit Card Debt</th>\n",
       "      <th>Net Worth</th>\n",
       "      <th>Car Purchase Amount</th>\n",
       "    </tr>\n",
       "  </thead>\n",
       "  <tbody>\n",
       "    <tr>\n",
       "      <th>0</th>\n",
       "      <td>Martina Avila</td>\n",
       "      <td>cubilia.Curae.Phasellus@quisaccumsanconvallis.edu</td>\n",
       "      <td>Bulgaria</td>\n",
       "      <td>0</td>\n",
       "      <td>41.851720</td>\n",
       "      <td>62812.09301</td>\n",
       "      <td>11609.380910</td>\n",
       "      <td>238961.2505</td>\n",
       "      <td>35321.45877</td>\n",
       "    </tr>\n",
       "    <tr>\n",
       "      <th>1</th>\n",
       "      <td>Harlan Barnes</td>\n",
       "      <td>eu.dolor@diam.co.uk</td>\n",
       "      <td>Belize</td>\n",
       "      <td>0</td>\n",
       "      <td>40.870623</td>\n",
       "      <td>66646.89292</td>\n",
       "      <td>9572.957136</td>\n",
       "      <td>530973.9078</td>\n",
       "      <td>45115.52566</td>\n",
       "    </tr>\n",
       "    <tr>\n",
       "      <th>2</th>\n",
       "      <td>Naomi Rodriquez</td>\n",
       "      <td>vulputate.mauris.sagittis@ametconsectetueradip...</td>\n",
       "      <td>Algeria</td>\n",
       "      <td>1</td>\n",
       "      <td>43.152897</td>\n",
       "      <td>53798.55112</td>\n",
       "      <td>11160.355060</td>\n",
       "      <td>638467.1773</td>\n",
       "      <td>42925.70921</td>\n",
       "    </tr>\n",
       "    <tr>\n",
       "      <th>3</th>\n",
       "      <td>Jade Cunningham</td>\n",
       "      <td>malesuada@dignissim.com</td>\n",
       "      <td>Cook Islands</td>\n",
       "      <td>1</td>\n",
       "      <td>58.271369</td>\n",
       "      <td>79370.03798</td>\n",
       "      <td>14426.164850</td>\n",
       "      <td>548599.0524</td>\n",
       "      <td>67422.36313</td>\n",
       "    </tr>\n",
       "    <tr>\n",
       "      <th>4</th>\n",
       "      <td>Cedric Leach</td>\n",
       "      <td>felis.ullamcorper.viverra@egetmollislectus.net</td>\n",
       "      <td>Brazil</td>\n",
       "      <td>1</td>\n",
       "      <td>57.313749</td>\n",
       "      <td>59729.15130</td>\n",
       "      <td>5358.712177</td>\n",
       "      <td>560304.0671</td>\n",
       "      <td>55915.46248</td>\n",
       "    </tr>\n",
       "    <tr>\n",
       "      <th>...</th>\n",
       "      <td>...</td>\n",
       "      <td>...</td>\n",
       "      <td>...</td>\n",
       "      <td>...</td>\n",
       "      <td>...</td>\n",
       "      <td>...</td>\n",
       "      <td>...</td>\n",
       "      <td>...</td>\n",
       "      <td>...</td>\n",
       "    </tr>\n",
       "    <tr>\n",
       "      <th>495</th>\n",
       "      <td>Walter</td>\n",
       "      <td>ligula@Cumsociis.ca</td>\n",
       "      <td>Nepal</td>\n",
       "      <td>0</td>\n",
       "      <td>41.462515</td>\n",
       "      <td>71942.40291</td>\n",
       "      <td>6995.902524</td>\n",
       "      <td>541670.1016</td>\n",
       "      <td>48901.44342</td>\n",
       "    </tr>\n",
       "    <tr>\n",
       "      <th>496</th>\n",
       "      <td>Vanna</td>\n",
       "      <td>Cum.sociis.natoque@Sedmolestie.edu</td>\n",
       "      <td>Zimbabwe</td>\n",
       "      <td>1</td>\n",
       "      <td>37.642000</td>\n",
       "      <td>56039.49793</td>\n",
       "      <td>12301.456790</td>\n",
       "      <td>360419.0988</td>\n",
       "      <td>31491.41457</td>\n",
       "    </tr>\n",
       "    <tr>\n",
       "      <th>497</th>\n",
       "      <td>Pearl</td>\n",
       "      <td>penatibus.et@massanonante.com</td>\n",
       "      <td>Philippines</td>\n",
       "      <td>1</td>\n",
       "      <td>53.943497</td>\n",
       "      <td>68888.77805</td>\n",
       "      <td>10611.606860</td>\n",
       "      <td>764531.3203</td>\n",
       "      <td>64147.28888</td>\n",
       "    </tr>\n",
       "    <tr>\n",
       "      <th>498</th>\n",
       "      <td>Nell</td>\n",
       "      <td>Quisque.varius@arcuVivamussit.net</td>\n",
       "      <td>Botswana</td>\n",
       "      <td>1</td>\n",
       "      <td>59.160509</td>\n",
       "      <td>49811.99062</td>\n",
       "      <td>14013.034510</td>\n",
       "      <td>337826.6382</td>\n",
       "      <td>45442.15353</td>\n",
       "    </tr>\n",
       "    <tr>\n",
       "      <th>499</th>\n",
       "      <td>Marla</td>\n",
       "      <td>Camaron.marla@hotmail.com</td>\n",
       "      <td>marlal</td>\n",
       "      <td>1</td>\n",
       "      <td>46.731152</td>\n",
       "      <td>61370.67766</td>\n",
       "      <td>9391.341628</td>\n",
       "      <td>462946.4924</td>\n",
       "      <td>45107.22566</td>\n",
       "    </tr>\n",
       "  </tbody>\n",
       "</table>\n",
       "<p>500 rows × 9 columns</p>\n",
       "</div>"
      ],
      "text/plain": [
       "       Customer Name                                    Customer e-mail  \\\n",
       "0      Martina Avila  cubilia.Curae.Phasellus@quisaccumsanconvallis.edu   \n",
       "1      Harlan Barnes                                eu.dolor@diam.co.uk   \n",
       "2    Naomi Rodriquez  vulputate.mauris.sagittis@ametconsectetueradip...   \n",
       "3    Jade Cunningham                            malesuada@dignissim.com   \n",
       "4       Cedric Leach     felis.ullamcorper.viverra@egetmollislectus.net   \n",
       "..               ...                                                ...   \n",
       "495           Walter                                ligula@Cumsociis.ca   \n",
       "496            Vanna                 Cum.sociis.natoque@Sedmolestie.edu   \n",
       "497            Pearl                      penatibus.et@massanonante.com   \n",
       "498             Nell                  Quisque.varius@arcuVivamussit.net   \n",
       "499            Marla                          Camaron.marla@hotmail.com   \n",
       "\n",
       "          Country  Gender        Age  Annual Salary  Credit Card Debt  \\\n",
       "0        Bulgaria       0  41.851720    62812.09301      11609.380910   \n",
       "1          Belize       0  40.870623    66646.89292       9572.957136   \n",
       "2         Algeria       1  43.152897    53798.55112      11160.355060   \n",
       "3    Cook Islands       1  58.271369    79370.03798      14426.164850   \n",
       "4          Brazil       1  57.313749    59729.15130       5358.712177   \n",
       "..            ...     ...        ...            ...               ...   \n",
       "495         Nepal       0  41.462515    71942.40291       6995.902524   \n",
       "496      Zimbabwe       1  37.642000    56039.49793      12301.456790   \n",
       "497   Philippines       1  53.943497    68888.77805      10611.606860   \n",
       "498      Botswana       1  59.160509    49811.99062      14013.034510   \n",
       "499        marlal       1  46.731152    61370.67766       9391.341628   \n",
       "\n",
       "       Net Worth  Car Purchase Amount  \n",
       "0    238961.2505          35321.45877  \n",
       "1    530973.9078          45115.52566  \n",
       "2    638467.1773          42925.70921  \n",
       "3    548599.0524          67422.36313  \n",
       "4    560304.0671          55915.46248  \n",
       "..           ...                  ...  \n",
       "495  541670.1016          48901.44342  \n",
       "496  360419.0988          31491.41457  \n",
       "497  764531.3203          64147.28888  \n",
       "498  337826.6382          45442.15353  \n",
       "499  462946.4924          45107.22566  \n",
       "\n",
       "[500 rows x 9 columns]"
      ]
     },
     "execution_count": 3,
     "metadata": {},
     "output_type": "execute_result"
    }
   ],
   "source": [
    "car_df"
   ]
  },
  {
   "cell_type": "code",
   "execution_count": 4,
   "id": "16b02c58",
   "metadata": {
    "execution": {
     "iopub.execute_input": "2024-02-07T15:17:04.134110Z",
     "iopub.status.busy": "2024-02-07T15:17:04.133767Z",
     "iopub.status.idle": "2024-02-07T15:17:04.147554Z",
     "shell.execute_reply": "2024-02-07T15:17:04.146469Z"
    },
    "papermill": {
     "duration": 0.024602,
     "end_time": "2024-02-07T15:17:04.150101",
     "exception": false,
     "start_time": "2024-02-07T15:17:04.125499",
     "status": "completed"
    },
    "tags": []
   },
   "outputs": [
    {
     "data": {
      "text/html": [
       "<div>\n",
       "<style scoped>\n",
       "    .dataframe tbody tr th:only-of-type {\n",
       "        vertical-align: middle;\n",
       "    }\n",
       "\n",
       "    .dataframe tbody tr th {\n",
       "        vertical-align: top;\n",
       "    }\n",
       "\n",
       "    .dataframe thead th {\n",
       "        text-align: right;\n",
       "    }\n",
       "</style>\n",
       "<table border=\"1\" class=\"dataframe\">\n",
       "  <thead>\n",
       "    <tr style=\"text-align: right;\">\n",
       "      <th></th>\n",
       "      <th>Customer Name</th>\n",
       "      <th>Customer e-mail</th>\n",
       "      <th>Country</th>\n",
       "      <th>Gender</th>\n",
       "      <th>Age</th>\n",
       "      <th>Annual Salary</th>\n",
       "      <th>Credit Card Debt</th>\n",
       "      <th>Net Worth</th>\n",
       "      <th>Car Purchase Amount</th>\n",
       "    </tr>\n",
       "  </thead>\n",
       "  <tbody>\n",
       "    <tr>\n",
       "      <th>0</th>\n",
       "      <td>Martina Avila</td>\n",
       "      <td>cubilia.Curae.Phasellus@quisaccumsanconvallis.edu</td>\n",
       "      <td>Bulgaria</td>\n",
       "      <td>0</td>\n",
       "      <td>41.851720</td>\n",
       "      <td>62812.09301</td>\n",
       "      <td>11609.380910</td>\n",
       "      <td>238961.2505</td>\n",
       "      <td>35321.45877</td>\n",
       "    </tr>\n",
       "    <tr>\n",
       "      <th>1</th>\n",
       "      <td>Harlan Barnes</td>\n",
       "      <td>eu.dolor@diam.co.uk</td>\n",
       "      <td>Belize</td>\n",
       "      <td>0</td>\n",
       "      <td>40.870623</td>\n",
       "      <td>66646.89292</td>\n",
       "      <td>9572.957136</td>\n",
       "      <td>530973.9078</td>\n",
       "      <td>45115.52566</td>\n",
       "    </tr>\n",
       "    <tr>\n",
       "      <th>2</th>\n",
       "      <td>Naomi Rodriquez</td>\n",
       "      <td>vulputate.mauris.sagittis@ametconsectetueradip...</td>\n",
       "      <td>Algeria</td>\n",
       "      <td>1</td>\n",
       "      <td>43.152897</td>\n",
       "      <td>53798.55112</td>\n",
       "      <td>11160.355060</td>\n",
       "      <td>638467.1773</td>\n",
       "      <td>42925.70921</td>\n",
       "    </tr>\n",
       "    <tr>\n",
       "      <th>3</th>\n",
       "      <td>Jade Cunningham</td>\n",
       "      <td>malesuada@dignissim.com</td>\n",
       "      <td>Cook Islands</td>\n",
       "      <td>1</td>\n",
       "      <td>58.271369</td>\n",
       "      <td>79370.03798</td>\n",
       "      <td>14426.164850</td>\n",
       "      <td>548599.0524</td>\n",
       "      <td>67422.36313</td>\n",
       "    </tr>\n",
       "    <tr>\n",
       "      <th>4</th>\n",
       "      <td>Cedric Leach</td>\n",
       "      <td>felis.ullamcorper.viverra@egetmollislectus.net</td>\n",
       "      <td>Brazil</td>\n",
       "      <td>1</td>\n",
       "      <td>57.313749</td>\n",
       "      <td>59729.15130</td>\n",
       "      <td>5358.712177</td>\n",
       "      <td>560304.0671</td>\n",
       "      <td>55915.46248</td>\n",
       "    </tr>\n",
       "  </tbody>\n",
       "</table>\n",
       "</div>"
      ],
      "text/plain": [
       "     Customer Name                                    Customer e-mail  \\\n",
       "0    Martina Avila  cubilia.Curae.Phasellus@quisaccumsanconvallis.edu   \n",
       "1    Harlan Barnes                                eu.dolor@diam.co.uk   \n",
       "2  Naomi Rodriquez  vulputate.mauris.sagittis@ametconsectetueradip...   \n",
       "3  Jade Cunningham                            malesuada@dignissim.com   \n",
       "4     Cedric Leach     felis.ullamcorper.viverra@egetmollislectus.net   \n",
       "\n",
       "        Country  Gender        Age  Annual Salary  Credit Card Debt  \\\n",
       "0      Bulgaria       0  41.851720    62812.09301      11609.380910   \n",
       "1        Belize       0  40.870623    66646.89292       9572.957136   \n",
       "2       Algeria       1  43.152897    53798.55112      11160.355060   \n",
       "3  Cook Islands       1  58.271369    79370.03798      14426.164850   \n",
       "4        Brazil       1  57.313749    59729.15130       5358.712177   \n",
       "\n",
       "     Net Worth  Car Purchase Amount  \n",
       "0  238961.2505          35321.45877  \n",
       "1  530973.9078          45115.52566  \n",
       "2  638467.1773          42925.70921  \n",
       "3  548599.0524          67422.36313  \n",
       "4  560304.0671          55915.46248  "
      ]
     },
     "execution_count": 4,
     "metadata": {},
     "output_type": "execute_result"
    }
   ],
   "source": [
    "car_df.head(5)"
   ]
  },
  {
   "cell_type": "code",
   "execution_count": 5,
   "id": "4a4d639f",
   "metadata": {
    "execution": {
     "iopub.execute_input": "2024-02-07T15:17:04.165796Z",
     "iopub.status.busy": "2024-02-07T15:17:04.165392Z",
     "iopub.status.idle": "2024-02-07T15:17:04.171532Z",
     "shell.execute_reply": "2024-02-07T15:17:04.170510Z"
    },
    "papermill": {
     "duration": 0.016412,
     "end_time": "2024-02-07T15:17:04.173618",
     "exception": false,
     "start_time": "2024-02-07T15:17:04.157206",
     "status": "completed"
    },
    "tags": []
   },
   "outputs": [],
   "source": [
    "X=car_df.drop(['Customer Name', 'Customer e-mail', 'Country', 'Car Purchase Amount'],axis=1)"
   ]
  },
  {
   "cell_type": "code",
   "execution_count": 6,
   "id": "2b1e5a53",
   "metadata": {
    "execution": {
     "iopub.execute_input": "2024-02-07T15:17:04.189214Z",
     "iopub.status.busy": "2024-02-07T15:17:04.188828Z",
     "iopub.status.idle": "2024-02-07T15:17:04.202723Z",
     "shell.execute_reply": "2024-02-07T15:17:04.201644Z"
    },
    "papermill": {
     "duration": 0.024257,
     "end_time": "2024-02-07T15:17:04.204913",
     "exception": false,
     "start_time": "2024-02-07T15:17:04.180656",
     "status": "completed"
    },
    "tags": []
   },
   "outputs": [
    {
     "data": {
      "text/html": [
       "<div>\n",
       "<style scoped>\n",
       "    .dataframe tbody tr th:only-of-type {\n",
       "        vertical-align: middle;\n",
       "    }\n",
       "\n",
       "    .dataframe tbody tr th {\n",
       "        vertical-align: top;\n",
       "    }\n",
       "\n",
       "    .dataframe thead th {\n",
       "        text-align: right;\n",
       "    }\n",
       "</style>\n",
       "<table border=\"1\" class=\"dataframe\">\n",
       "  <thead>\n",
       "    <tr style=\"text-align: right;\">\n",
       "      <th></th>\n",
       "      <th>Gender</th>\n",
       "      <th>Age</th>\n",
       "      <th>Annual Salary</th>\n",
       "      <th>Credit Card Debt</th>\n",
       "      <th>Net Worth</th>\n",
       "    </tr>\n",
       "  </thead>\n",
       "  <tbody>\n",
       "    <tr>\n",
       "      <th>0</th>\n",
       "      <td>0</td>\n",
       "      <td>41.851720</td>\n",
       "      <td>62812.09301</td>\n",
       "      <td>11609.380910</td>\n",
       "      <td>238961.2505</td>\n",
       "    </tr>\n",
       "    <tr>\n",
       "      <th>1</th>\n",
       "      <td>0</td>\n",
       "      <td>40.870623</td>\n",
       "      <td>66646.89292</td>\n",
       "      <td>9572.957136</td>\n",
       "      <td>530973.9078</td>\n",
       "    </tr>\n",
       "    <tr>\n",
       "      <th>2</th>\n",
       "      <td>1</td>\n",
       "      <td>43.152897</td>\n",
       "      <td>53798.55112</td>\n",
       "      <td>11160.355060</td>\n",
       "      <td>638467.1773</td>\n",
       "    </tr>\n",
       "    <tr>\n",
       "      <th>3</th>\n",
       "      <td>1</td>\n",
       "      <td>58.271369</td>\n",
       "      <td>79370.03798</td>\n",
       "      <td>14426.164850</td>\n",
       "      <td>548599.0524</td>\n",
       "    </tr>\n",
       "    <tr>\n",
       "      <th>4</th>\n",
       "      <td>1</td>\n",
       "      <td>57.313749</td>\n",
       "      <td>59729.15130</td>\n",
       "      <td>5358.712177</td>\n",
       "      <td>560304.0671</td>\n",
       "    </tr>\n",
       "    <tr>\n",
       "      <th>...</th>\n",
       "      <td>...</td>\n",
       "      <td>...</td>\n",
       "      <td>...</td>\n",
       "      <td>...</td>\n",
       "      <td>...</td>\n",
       "    </tr>\n",
       "    <tr>\n",
       "      <th>495</th>\n",
       "      <td>0</td>\n",
       "      <td>41.462515</td>\n",
       "      <td>71942.40291</td>\n",
       "      <td>6995.902524</td>\n",
       "      <td>541670.1016</td>\n",
       "    </tr>\n",
       "    <tr>\n",
       "      <th>496</th>\n",
       "      <td>1</td>\n",
       "      <td>37.642000</td>\n",
       "      <td>56039.49793</td>\n",
       "      <td>12301.456790</td>\n",
       "      <td>360419.0988</td>\n",
       "    </tr>\n",
       "    <tr>\n",
       "      <th>497</th>\n",
       "      <td>1</td>\n",
       "      <td>53.943497</td>\n",
       "      <td>68888.77805</td>\n",
       "      <td>10611.606860</td>\n",
       "      <td>764531.3203</td>\n",
       "    </tr>\n",
       "    <tr>\n",
       "      <th>498</th>\n",
       "      <td>1</td>\n",
       "      <td>59.160509</td>\n",
       "      <td>49811.99062</td>\n",
       "      <td>14013.034510</td>\n",
       "      <td>337826.6382</td>\n",
       "    </tr>\n",
       "    <tr>\n",
       "      <th>499</th>\n",
       "      <td>1</td>\n",
       "      <td>46.731152</td>\n",
       "      <td>61370.67766</td>\n",
       "      <td>9391.341628</td>\n",
       "      <td>462946.4924</td>\n",
       "    </tr>\n",
       "  </tbody>\n",
       "</table>\n",
       "<p>500 rows × 5 columns</p>\n",
       "</div>"
      ],
      "text/plain": [
       "     Gender        Age  Annual Salary  Credit Card Debt    Net Worth\n",
       "0         0  41.851720    62812.09301      11609.380910  238961.2505\n",
       "1         0  40.870623    66646.89292       9572.957136  530973.9078\n",
       "2         1  43.152897    53798.55112      11160.355060  638467.1773\n",
       "3         1  58.271369    79370.03798      14426.164850  548599.0524\n",
       "4         1  57.313749    59729.15130       5358.712177  560304.0671\n",
       "..      ...        ...            ...               ...          ...\n",
       "495       0  41.462515    71942.40291       6995.902524  541670.1016\n",
       "496       1  37.642000    56039.49793      12301.456790  360419.0988\n",
       "497       1  53.943497    68888.77805      10611.606860  764531.3203\n",
       "498       1  59.160509    49811.99062      14013.034510  337826.6382\n",
       "499       1  46.731152    61370.67766       9391.341628  462946.4924\n",
       "\n",
       "[500 rows x 5 columns]"
      ]
     },
     "execution_count": 6,
     "metadata": {},
     "output_type": "execute_result"
    }
   ],
   "source": [
    "X"
   ]
  },
  {
   "cell_type": "code",
   "execution_count": 7,
   "id": "74776021",
   "metadata": {
    "execution": {
     "iopub.execute_input": "2024-02-07T15:17:04.221549Z",
     "iopub.status.busy": "2024-02-07T15:17:04.221129Z",
     "iopub.status.idle": "2024-02-07T15:17:04.227397Z",
     "shell.execute_reply": "2024-02-07T15:17:04.226234Z"
    },
    "papermill": {
     "duration": 0.01712,
     "end_time": "2024-02-07T15:17:04.229304",
     "exception": false,
     "start_time": "2024-02-07T15:17:04.212184",
     "status": "completed"
    },
    "tags": []
   },
   "outputs": [],
   "source": [
    "y=car_df['Car Purchase Amount']"
   ]
  },
  {
   "cell_type": "code",
   "execution_count": 8,
   "id": "e034451f",
   "metadata": {
    "execution": {
     "iopub.execute_input": "2024-02-07T15:17:04.246290Z",
     "iopub.status.busy": "2024-02-07T15:17:04.245910Z",
     "iopub.status.idle": "2024-02-07T15:17:04.254335Z",
     "shell.execute_reply": "2024-02-07T15:17:04.253340Z"
    },
    "papermill": {
     "duration": 0.019858,
     "end_time": "2024-02-07T15:17:04.256430",
     "exception": false,
     "start_time": "2024-02-07T15:17:04.236572",
     "status": "completed"
    },
    "tags": []
   },
   "outputs": [
    {
     "data": {
      "text/plain": [
       "0      35321.45877\n",
       "1      45115.52566\n",
       "2      42925.70921\n",
       "3      67422.36313\n",
       "4      55915.46248\n",
       "          ...     \n",
       "495    48901.44342\n",
       "496    31491.41457\n",
       "497    64147.28888\n",
       "498    45442.15353\n",
       "499    45107.22566\n",
       "Name: Car Purchase Amount, Length: 500, dtype: float64"
      ]
     },
     "execution_count": 8,
     "metadata": {},
     "output_type": "execute_result"
    }
   ],
   "source": [
    "y"
   ]
  },
  {
   "cell_type": "code",
   "execution_count": 9,
   "id": "d8b292ce",
   "metadata": {
    "execution": {
     "iopub.execute_input": "2024-02-07T15:17:04.273009Z",
     "iopub.status.busy": "2024-02-07T15:17:04.272637Z",
     "iopub.status.idle": "2024-02-07T15:17:04.279309Z",
     "shell.execute_reply": "2024-02-07T15:17:04.278237Z"
    },
    "papermill": {
     "duration": 0.017902,
     "end_time": "2024-02-07T15:17:04.281983",
     "exception": false,
     "start_time": "2024-02-07T15:17:04.264081",
     "status": "completed"
    },
    "tags": []
   },
   "outputs": [
    {
     "data": {
      "text/plain": [
       "(500, 5)"
      ]
     },
     "execution_count": 9,
     "metadata": {},
     "output_type": "execute_result"
    }
   ],
   "source": [
    "X.shape"
   ]
  },
  {
   "cell_type": "code",
   "execution_count": 10,
   "id": "3c84d33d",
   "metadata": {
    "execution": {
     "iopub.execute_input": "2024-02-07T15:17:04.299989Z",
     "iopub.status.busy": "2024-02-07T15:17:04.299600Z",
     "iopub.status.idle": "2024-02-07T15:17:04.306344Z",
     "shell.execute_reply": "2024-02-07T15:17:04.305254Z"
    },
    "papermill": {
     "duration": 0.018574,
     "end_time": "2024-02-07T15:17:04.308602",
     "exception": false,
     "start_time": "2024-02-07T15:17:04.290028",
     "status": "completed"
    },
    "tags": []
   },
   "outputs": [
    {
     "data": {
      "text/plain": [
       "(500,)"
      ]
     },
     "execution_count": 10,
     "metadata": {},
     "output_type": "execute_result"
    }
   ],
   "source": [
    "y.shape"
   ]
  },
  {
   "cell_type": "code",
   "execution_count": 11,
   "id": "87d4225e",
   "metadata": {
    "execution": {
     "iopub.execute_input": "2024-02-07T15:17:04.327059Z",
     "iopub.status.busy": "2024-02-07T15:17:04.326653Z",
     "iopub.status.idle": "2024-02-07T15:17:04.548883Z",
     "shell.execute_reply": "2024-02-07T15:17:04.547740Z"
    },
    "papermill": {
     "duration": 0.234289,
     "end_time": "2024-02-07T15:17:04.551444",
     "exception": false,
     "start_time": "2024-02-07T15:17:04.317155",
     "status": "completed"
    },
    "tags": []
   },
   "outputs": [],
   "source": [
    "from sklearn.preprocessing import MinMaxScaler\n",
    "scaler = MinMaxScaler()\n",
    "X_scaled = scaler.fit_transform(X)"
   ]
  },
  {
   "cell_type": "code",
   "execution_count": 12,
   "id": "6bcefe12",
   "metadata": {
    "execution": {
     "iopub.execute_input": "2024-02-07T15:17:04.569252Z",
     "iopub.status.busy": "2024-02-07T15:17:04.568824Z",
     "iopub.status.idle": "2024-02-07T15:17:04.576015Z",
     "shell.execute_reply": "2024-02-07T15:17:04.574984Z"
    },
    "papermill": {
     "duration": 0.018866,
     "end_time": "2024-02-07T15:17:04.578204",
     "exception": false,
     "start_time": "2024-02-07T15:17:04.559338",
     "status": "completed"
    },
    "tags": []
   },
   "outputs": [
    {
     "data": {
      "text/plain": [
       "(500, 5)"
      ]
     },
     "execution_count": 12,
     "metadata": {},
     "output_type": "execute_result"
    }
   ],
   "source": [
    "X_scaled.shape"
   ]
  },
  {
   "cell_type": "code",
   "execution_count": 13,
   "id": "96d667aa",
   "metadata": {
    "execution": {
     "iopub.execute_input": "2024-02-07T15:17:04.596027Z",
     "iopub.status.busy": "2024-02-07T15:17:04.595655Z",
     "iopub.status.idle": "2024-02-07T15:17:04.601411Z",
     "shell.execute_reply": "2024-02-07T15:17:04.600376Z"
    },
    "papermill": {
     "duration": 0.017198,
     "end_time": "2024-02-07T15:17:04.603523",
     "exception": false,
     "start_time": "2024-02-07T15:17:04.586325",
     "status": "completed"
    },
    "tags": []
   },
   "outputs": [
    {
     "data": {
      "text/plain": [
       "array([1.e+00, 7.e+01, 1.e+05, 2.e+04, 1.e+06])"
      ]
     },
     "execution_count": 13,
     "metadata": {},
     "output_type": "execute_result"
    }
   ],
   "source": [
    "scaler.data_max_"
   ]
  },
  {
   "cell_type": "code",
   "execution_count": 14,
   "id": "8540f147",
   "metadata": {
    "execution": {
     "iopub.execute_input": "2024-02-07T15:17:04.622544Z",
     "iopub.status.busy": "2024-02-07T15:17:04.622148Z",
     "iopub.status.idle": "2024-02-07T15:17:04.628360Z",
     "shell.execute_reply": "2024-02-07T15:17:04.627539Z"
    },
    "papermill": {
     "duration": 0.019029,
     "end_time": "2024-02-07T15:17:04.630432",
     "exception": false,
     "start_time": "2024-02-07T15:17:04.611403",
     "status": "completed"
    },
    "tags": []
   },
   "outputs": [
    {
     "data": {
      "text/plain": [
       "array([    0.,    20., 20000.,   100., 20000.])"
      ]
     },
     "execution_count": 14,
     "metadata": {},
     "output_type": "execute_result"
    }
   ],
   "source": [
    "scaler.data_min_"
   ]
  },
  {
   "cell_type": "code",
   "execution_count": 15,
   "id": "091a77b0",
   "metadata": {
    "execution": {
     "iopub.execute_input": "2024-02-07T15:17:04.648468Z",
     "iopub.status.busy": "2024-02-07T15:17:04.648107Z",
     "iopub.status.idle": "2024-02-07T15:17:04.652348Z",
     "shell.execute_reply": "2024-02-07T15:17:04.651320Z"
    },
    "papermill": {
     "duration": 0.015645,
     "end_time": "2024-02-07T15:17:04.654288",
     "exception": false,
     "start_time": "2024-02-07T15:17:04.638643",
     "status": "completed"
    },
    "tags": []
   },
   "outputs": [],
   "source": [
    "y=y.values.reshape(-1,1)"
   ]
  },
  {
   "cell_type": "code",
   "execution_count": 16,
   "id": "a3382ee0",
   "metadata": {
    "execution": {
     "iopub.execute_input": "2024-02-07T15:17:04.672129Z",
     "iopub.status.busy": "2024-02-07T15:17:04.671727Z",
     "iopub.status.idle": "2024-02-07T15:17:04.677179Z",
     "shell.execute_reply": "2024-02-07T15:17:04.676091Z"
    },
    "papermill": {
     "duration": 0.016711,
     "end_time": "2024-02-07T15:17:04.679169",
     "exception": false,
     "start_time": "2024-02-07T15:17:04.662458",
     "status": "completed"
    },
    "tags": []
   },
   "outputs": [],
   "source": [
    "y_scaled = scaler.fit_transform(y)"
   ]
  },
  {
   "cell_type": "code",
   "execution_count": 17,
   "id": "4825c3ee",
   "metadata": {
    "execution": {
     "iopub.execute_input": "2024-02-07T15:17:04.697277Z",
     "iopub.status.busy": "2024-02-07T15:17:04.696336Z",
     "iopub.status.idle": "2024-02-07T15:17:04.709689Z",
     "shell.execute_reply": "2024-02-07T15:17:04.708561Z"
    },
    "papermill": {
     "duration": 0.025058,
     "end_time": "2024-02-07T15:17:04.712253",
     "exception": false,
     "start_time": "2024-02-07T15:17:04.687195",
     "status": "completed"
    },
    "tags": []
   },
   "outputs": [
    {
     "data": {
      "text/plain": [
       "array([[0.37072477],\n",
       "       [0.50866938],\n",
       "       [0.47782689],\n",
       "       [0.82285018],\n",
       "       [0.66078116],\n",
       "       [0.67059152],\n",
       "       [0.28064374],\n",
       "       [0.54133778],\n",
       "       [0.54948752],\n",
       "       [0.4111198 ],\n",
       "       [0.70486638],\n",
       "       [0.46885649],\n",
       "       [0.27746526],\n",
       "       [0.56702642],\n",
       "       [0.57056385],\n",
       "       [0.61996151],\n",
       "       [0.46217916],\n",
       "       [0.49157341],\n",
       "       [0.50188722],\n",
       "       [0.64545808],\n",
       "       [0.59339372],\n",
       "       [0.48453965],\n",
       "       [0.53860366],\n",
       "       [0.53007738],\n",
       "       [0.50814651],\n",
       "       [0.49841668],\n",
       "       [0.3966416 ],\n",
       "       [0.56467566],\n",
       "       [0.6950749 ],\n",
       "       [0.49287831],\n",
       "       [0.12090943],\n",
       "       [0.50211776],\n",
       "       [0.80794216],\n",
       "       [0.62661214],\n",
       "       [0.43394857],\n",
       "       [0.60017103],\n",
       "       [0.42223485],\n",
       "       [0.01538345],\n",
       "       [0.37927499],\n",
       "       [0.64539707],\n",
       "       [0.51838974],\n",
       "       [0.45869677],\n",
       "       [0.26804521],\n",
       "       [0.2650104 ],\n",
       "       [0.84054134],\n",
       "       [0.84401542],\n",
       "       [0.35515157],\n",
       "       [0.406246  ],\n",
       "       [0.40680623],\n",
       "       [0.55963883],\n",
       "       [0.2561583 ],\n",
       "       [0.77096325],\n",
       "       [0.55305289],\n",
       "       [0.5264948 ],\n",
       "       [0.3236476 ],\n",
       "       [0.55070832],\n",
       "       [0.54057623],\n",
       "       [0.45669016],\n",
       "       [0.41053254],\n",
       "       [0.33433524],\n",
       "       [0.39926954],\n",
       "       [0.5420261 ],\n",
       "       [0.57366948],\n",
       "       [0.43793831],\n",
       "       [0.46897896],\n",
       "       [0.61908354],\n",
       "       [0.55076214],\n",
       "       [0.48846357],\n",
       "       [0.61560519],\n",
       "       [0.56891394],\n",
       "       [0.30761974],\n",
       "       [0.56863909],\n",
       "       [0.46343171],\n",
       "       [0.50787179],\n",
       "       [0.61959897],\n",
       "       [0.59095889],\n",
       "       [0.45573492],\n",
       "       [0.49908055],\n",
       "       [0.4155271 ],\n",
       "       [0.45382041],\n",
       "       [0.41407692],\n",
       "       [0.45713635],\n",
       "       [0.30133556],\n",
       "       [0.47019791],\n",
       "       [0.42256447],\n",
       "       [0.14863766],\n",
       "       [0.50939895],\n",
       "       [0.38056275],\n",
       "       [0.59067519],\n",
       "       [0.05486922],\n",
       "       [0.4219045 ],\n",
       "       [0.59466257],\n",
       "       [0.23904164],\n",
       "       [0.72775122],\n",
       "       [0.63486085],\n",
       "       [0.43668833],\n",
       "       [0.74075381],\n",
       "       [0.42962519],\n",
       "       [0.61231998],\n",
       "       [0.46743215],\n",
       "       [0.68227386],\n",
       "       [0.19270023],\n",
       "       [0.34705263],\n",
       "       [0.31747576],\n",
       "       [0.72480623],\n",
       "       [0.51744133],\n",
       "       [0.36343414],\n",
       "       [0.36116341],\n",
       "       [0.26178477],\n",
       "       [0.64750739],\n",
       "       [0.56538749],\n",
       "       [0.70197943],\n",
       "       [0.68037083],\n",
       "       [0.60481233],\n",
       "       [0.29916352],\n",
       "       [0.81860421],\n",
       "       [0.47053558],\n",
       "       [0.45706646],\n",
       "       [0.47313925],\n",
       "       [0.35945319],\n",
       "       [0.46779854],\n",
       "       [0.46357095],\n",
       "       [0.71008706],\n",
       "       [0.59721993],\n",
       "       [0.64444254],\n",
       "       [0.53723155],\n",
       "       [0.78016463],\n",
       "       [0.39792327],\n",
       "       [0.61500514],\n",
       "       [0.49297475],\n",
       "       [0.59931944],\n",
       "       [0.4118826 ],\n",
       "       [0.43333307],\n",
       "       [0.43771229],\n",
       "       [0.33988067],\n",
       "       [0.55806565],\n",
       "       [0.54497514],\n",
       "       [0.42831636],\n",
       "       [0.344062  ],\n",
       "       [0.33380674],\n",
       "       [0.75865395],\n",
       "       [0.28768775],\n",
       "       [0.49885366],\n",
       "       [0.3893741 ],\n",
       "       [0.62895125],\n",
       "       [0.52080458],\n",
       "       [0.41555485],\n",
       "       [0.54839351],\n",
       "       [0.72143981],\n",
       "       [0.42155708],\n",
       "       [0.26493265],\n",
       "       [0.54372318],\n",
       "       [0.46981253],\n",
       "       [0.31409216],\n",
       "       [0.46999496],\n",
       "       [0.32165106],\n",
       "       [0.24646921],\n",
       "       [0.41088501],\n",
       "       [0.42863953],\n",
       "       [0.40442699],\n",
       "       [0.67782275],\n",
       "       [0.52751195],\n",
       "       [0.49091635],\n",
       "       [0.65623527],\n",
       "       [0.47160596],\n",
       "       [0.44900269],\n",
       "       [0.16412978],\n",
       "       [0.37237754],\n",
       "       [0.38187033],\n",
       "       [0.41101838],\n",
       "       [0.45107076],\n",
       "       [0.26605566],\n",
       "       [0.48907732],\n",
       "       [0.68212351],\n",
       "       [0.45217002],\n",
       "       [0.56409653],\n",
       "       [0.45444407],\n",
       "       [0.78232624],\n",
       "       [0.28242388],\n",
       "       [0.3059129 ],\n",
       "       [0.41919878],\n",
       "       [0.42720002],\n",
       "       [0.33251345],\n",
       "       [0.69078257],\n",
       "       [0.63925743],\n",
       "       [0.38927052],\n",
       "       [0.42988917],\n",
       "       [0.47856826],\n",
       "       [0.73050372],\n",
       "       [0.52648517],\n",
       "       [0.67013948],\n",
       "       [0.47569515],\n",
       "       [0.40675569],\n",
       "       [0.50997782],\n",
       "       [0.665203  ],\n",
       "       [0.58387492],\n",
       "       [0.57353959],\n",
       "       [0.31967601],\n",
       "       [0.56647918],\n",
       "       [0.52378641],\n",
       "       [0.38150608],\n",
       "       [0.48259225],\n",
       "       [0.44592089],\n",
       "       [0.60117759],\n",
       "       [0.50035241],\n",
       "       [0.55660425],\n",
       "       [0.51838459],\n",
       "       [0.6457801 ],\n",
       "       [0.33068236],\n",
       "       [0.46773647],\n",
       "       [0.64966102],\n",
       "       [0.54907635],\n",
       "       [0.48459001],\n",
       "       [0.50109082],\n",
       "       [0.40485272],\n",
       "       [0.5465529 ],\n",
       "       [0.5048829 ],\n",
       "       [0.53018684],\n",
       "       [0.66991531],\n",
       "       [0.46018938],\n",
       "       [0.73406295],\n",
       "       [0.39864179],\n",
       "       [0.53369389],\n",
       "       [0.66841888],\n",
       "       [0.51422109],\n",
       "       [0.26233016],\n",
       "       [0.52661271],\n",
       "       [0.28171911],\n",
       "       [0.5965593 ],\n",
       "       [0.46494647],\n",
       "       [0.61485077],\n",
       "       [0.49905236],\n",
       "       [0.52189581],\n",
       "       [0.69345654],\n",
       "       [0.47873651],\n",
       "       [0.58735466],\n",
       "       [0.53534616],\n",
       "       [0.56901367],\n",
       "       [0.47883335],\n",
       "       [0.49908428],\n",
       "       [0.5257114 ],\n",
       "       [0.53305254],\n",
       "       [0.66900144],\n",
       "       [0.47568675],\n",
       "       [0.61005611],\n",
       "       [0.3540794 ],\n",
       "       [0.72905982],\n",
       "       [0.80505204],\n",
       "       [0.31289637],\n",
       "       [0.523032  ],\n",
       "       [0.67567861],\n",
       "       [0.2138602 ],\n",
       "       [0.56450168],\n",
       "       [0.39568902],\n",
       "       [0.4845291 ],\n",
       "       [0.28298776],\n",
       "       [0.55421359],\n",
       "       [0.34170423],\n",
       "       [0.45531219],\n",
       "       [0.56811431],\n",
       "       [0.5972613 ],\n",
       "       [0.31338011],\n",
       "       [0.48730944],\n",
       "       [0.55352142],\n",
       "       [0.63399262],\n",
       "       [0.41795296],\n",
       "       [0.39544824],\n",
       "       [0.40771621],\n",
       "       [0.45521229],\n",
       "       [0.81533714],\n",
       "       [0.04981603],\n",
       "       [0.43026944],\n",
       "       [0.61562087],\n",
       "       [0.6268025 ],\n",
       "       [0.60728039],\n",
       "       [0.41838955],\n",
       "       [0.54964825],\n",
       "       [0.71104101],\n",
       "       [0.37903726],\n",
       "       [0.45118709],\n",
       "       [0.60183344],\n",
       "       [0.62002621],\n",
       "       [0.33560612],\n",
       "       [0.28757249],\n",
       "       [0.6825565 ],\n",
       "       [0.58368485],\n",
       "       [0.45880771],\n",
       "       [0.52693631],\n",
       "       [0.54380447],\n",
       "       [0.8715253 ],\n",
       "       [0.65554063],\n",
       "       [0.63167261],\n",
       "       [0.4352791 ],\n",
       "       [0.50332973],\n",
       "       [0.5343264 ],\n",
       "       [0.27381426],\n",
       "       [0.41053523],\n",
       "       [0.47531745],\n",
       "       [0.2911385 ],\n",
       "       [0.76110147],\n",
       "       [0.76406707],\n",
       "       [0.46931782],\n",
       "       [0.49948317],\n",
       "       [0.81820046],\n",
       "       [0.18438195],\n",
       "       [0.43693203],\n",
       "       [0.66298048],\n",
       "       [0.56960734],\n",
       "       [0.47179899],\n",
       "       [0.39556023],\n",
       "       [0.60375334],\n",
       "       [0.37628608],\n",
       "       [0.43511174],\n",
       "       [0.37719946],\n",
       "       [0.47698891],\n",
       "       [1.        ],\n",
       "       [0.72573208],\n",
       "       [0.71491172],\n",
       "       [0.43107389],\n",
       "       [0.69917902],\n",
       "       [0.61949147],\n",
       "       [0.58685749],\n",
       "       [0.71302854],\n",
       "       [0.19197549],\n",
       "       [0.4526464 ],\n",
       "       [0.62671101],\n",
       "       [0.38794277],\n",
       "       [0.48597146],\n",
       "       [0.3119255 ],\n",
       "       [0.3172683 ],\n",
       "       [0.31103807],\n",
       "       [0.51220225],\n",
       "       [0.22891454],\n",
       "       [0.43505067],\n",
       "       [0.60902435],\n",
       "       [0.43537481],\n",
       "       [0.51912329],\n",
       "       [0.30740999],\n",
       "       [0.42849005],\n",
       "       [0.36167369],\n",
       "       [0.20447774],\n",
       "       [0.27793926],\n",
       "       [0.70558126],\n",
       "       [0.58012487],\n",
       "       [0.3754806 ],\n",
       "       [0.52673735],\n",
       "       [0.32804493],\n",
       "       [0.56449711],\n",
       "       [0.56829414],\n",
       "       [0.45672673],\n",
       "       [0.21439436],\n",
       "       [0.49893066],\n",
       "       [0.72380375],\n",
       "       [0.47597174],\n",
       "       [0.53430602],\n",
       "       [0.69953618],\n",
       "       [0.40905353],\n",
       "       [0.42634618],\n",
       "       [0.64234067],\n",
       "       [0.4237175 ],\n",
       "       [0.54907212],\n",
       "       [0.5222931 ],\n",
       "       [0.30935321],\n",
       "       [0.37643596],\n",
       "       [0.56429808],\n",
       "       [0.56275857],\n",
       "       [0.39694511],\n",
       "       [0.53113416],\n",
       "       [0.61816285],\n",
       "       [0.29231919],\n",
       "       [0.73184274],\n",
       "       [0.4362737 ],\n",
       "       [0.41613807],\n",
       "       [0.67273869],\n",
       "       [0.76168793],\n",
       "       [0.65775822],\n",
       "       [0.3854533 ],\n",
       "       [0.61236387],\n",
       "       [0.58164331],\n",
       "       [0.39802597],\n",
       "       [0.54529522],\n",
       "       [0.28930803],\n",
       "       [0.72629843],\n",
       "       [0.38204913],\n",
       "       [0.68033622],\n",
       "       [0.60453629],\n",
       "       [0.37815253],\n",
       "       [0.47470876],\n",
       "       [0.65035196],\n",
       "       [0.24788603],\n",
       "       [0.63371047],\n",
       "       [0.54888405],\n",
       "       [0.48791067],\n",
       "       [0.46027877],\n",
       "       [0.76253593],\n",
       "       [0.30644588],\n",
       "       [0.79707352],\n",
       "       [0.40664378],\n",
       "       [0.47773971],\n",
       "       [0.19154167],\n",
       "       [0.86759109],\n",
       "       [0.48228989],\n",
       "       [0.41040247],\n",
       "       [0.30168732],\n",
       "       [0.77280198],\n",
       "       [0.50863303],\n",
       "       [0.49805458],\n",
       "       [0.14824364],\n",
       "       [0.57734658],\n",
       "       [0.7427002 ],\n",
       "       [0.4615406 ],\n",
       "       [0.52679628],\n",
       "       [0.39967091],\n",
       "       [0.34882593],\n",
       "       [0.3051776 ],\n",
       "       [0.60642838],\n",
       "       [0.30614901],\n",
       "       [0.4287247 ],\n",
       "       [0.41091372],\n",
       "       [0.44492764],\n",
       "       [0.74688327],\n",
       "       [0.5558489 ],\n",
       "       [0.43795845],\n",
       "       [0.571387  ],\n",
       "       [0.31561446],\n",
       "       [0.54534475],\n",
       "       [0.37724541],\n",
       "       [0.47754279],\n",
       "       [0.55657526],\n",
       "       [0.51540401],\n",
       "       [0.32481193],\n",
       "       [0.32687852],\n",
       "       [0.37288737],\n",
       "       [0.28900791],\n",
       "       [0.6538108 ],\n",
       "       [0.46675557],\n",
       "       [0.58506904],\n",
       "       [0.36510463],\n",
       "       [0.49152498],\n",
       "       [0.42443705],\n",
       "       [0.45278122],\n",
       "       [0.21316327],\n",
       "       [0.4747199 ],\n",
       "       [0.42114943],\n",
       "       [0.27669569],\n",
       "       [0.60775236],\n",
       "       [0.81194719],\n",
       "       [0.47759537],\n",
       "       [0.56687473],\n",
       "       [0.25779114],\n",
       "       [0.54746234],\n",
       "       [0.71808681],\n",
       "       [0.51086565],\n",
       "       [0.        ],\n",
       "       [0.52129727],\n",
       "       [0.33756622],\n",
       "       [0.56035434],\n",
       "       [0.51865585],\n",
       "       [0.43805795],\n",
       "       [0.3726359 ],\n",
       "       [0.2895323 ],\n",
       "       [0.41187412],\n",
       "       [0.499023  ],\n",
       "       [0.59220313],\n",
       "       [0.61366712],\n",
       "       [0.73808769],\n",
       "       [0.27413582],\n",
       "       [0.26177748],\n",
       "       [0.54900684],\n",
       "       [0.26992761],\n",
       "       [0.85449963],\n",
       "       [0.55003734],\n",
       "       [0.39949626],\n",
       "       [0.50001154],\n",
       "       [0.36815842],\n",
       "       [0.6502447 ],\n",
       "       [0.55469987],\n",
       "       [0.37779655],\n",
       "       [0.38757338],\n",
       "       [0.62128001],\n",
       "       [0.62041473],\n",
       "       [0.17564949],\n",
       "       [0.50726309],\n",
       "       [0.65320953],\n",
       "       [0.6691568 ],\n",
       "       [0.54146119],\n",
       "       [0.45760058],\n",
       "       [0.33173992],\n",
       "       [0.46457217],\n",
       "       [0.7118085 ],\n",
       "       [0.4556686 ],\n",
       "       [0.61669253],\n",
       "       [0.71996731],\n",
       "       [0.54592485],\n",
       "       [0.77729956],\n",
       "       [0.56199216],\n",
       "       [0.31678049],\n",
       "       [0.77672238],\n",
       "       [0.51326977],\n",
       "       [0.50855247]])"
      ]
     },
     "execution_count": 17,
     "metadata": {},
     "output_type": "execute_result"
    }
   ],
   "source": [
    "y_scaled"
   ]
  },
  {
   "cell_type": "code",
   "execution_count": 18,
   "id": "417f9fd2",
   "metadata": {
    "execution": {
     "iopub.execute_input": "2024-02-07T15:17:04.730758Z",
     "iopub.status.busy": "2024-02-07T15:17:04.730354Z",
     "iopub.status.idle": "2024-02-07T15:17:04.846379Z",
     "shell.execute_reply": "2024-02-07T15:17:04.845351Z"
    },
    "papermill": {
     "duration": 0.127982,
     "end_time": "2024-02-07T15:17:04.848769",
     "exception": false,
     "start_time": "2024-02-07T15:17:04.720787",
     "status": "completed"
    },
    "tags": []
   },
   "outputs": [],
   "source": [
    "from sklearn.model_selection import train_test_split\n",
    "X_train, X_test, y_train, y_test = train_test_split(X_scaled, y_scaled,test_size = 0.30)"
   ]
  },
  {
   "cell_type": "code",
   "execution_count": 19,
   "id": "d0285704",
   "metadata": {
    "execution": {
     "iopub.execute_input": "2024-02-07T15:17:04.867962Z",
     "iopub.status.busy": "2024-02-07T15:17:04.867330Z",
     "iopub.status.idle": "2024-02-07T15:17:04.872946Z",
     "shell.execute_reply": "2024-02-07T15:17:04.872044Z"
    },
    "papermill": {
     "duration": 0.017788,
     "end_time": "2024-02-07T15:17:04.875184",
     "exception": false,
     "start_time": "2024-02-07T15:17:04.857396",
     "status": "completed"
    },
    "tags": []
   },
   "outputs": [
    {
     "data": {
      "text/plain": [
       "(350, 5)"
      ]
     },
     "execution_count": 19,
     "metadata": {},
     "output_type": "execute_result"
    }
   ],
   "source": [
    "X_train.shape"
   ]
  },
  {
   "cell_type": "code",
   "execution_count": 20,
   "id": "a0cb2162",
   "metadata": {
    "execution": {
     "iopub.execute_input": "2024-02-07T15:17:04.895229Z",
     "iopub.status.busy": "2024-02-07T15:17:04.894829Z",
     "iopub.status.idle": "2024-02-07T15:17:04.900913Z",
     "shell.execute_reply": "2024-02-07T15:17:04.899913Z"
    },
    "papermill": {
     "duration": 0.018547,
     "end_time": "2024-02-07T15:17:04.903148",
     "exception": false,
     "start_time": "2024-02-07T15:17:04.884601",
     "status": "completed"
    },
    "tags": []
   },
   "outputs": [
    {
     "data": {
      "text/plain": [
       "(150, 5)"
      ]
     },
     "execution_count": 20,
     "metadata": {},
     "output_type": "execute_result"
    }
   ],
   "source": [
    "X_test.shape"
   ]
  },
  {
   "cell_type": "code",
   "execution_count": 21,
   "id": "62fa1e2c",
   "metadata": {
    "execution": {
     "iopub.execute_input": "2024-02-07T15:17:04.922539Z",
     "iopub.status.busy": "2024-02-07T15:17:04.922157Z",
     "iopub.status.idle": "2024-02-07T15:17:19.427321Z",
     "shell.execute_reply": "2024-02-07T15:17:19.426249Z"
    },
    "papermill": {
     "duration": 14.518208,
     "end_time": "2024-02-07T15:17:19.430035",
     "exception": false,
     "start_time": "2024-02-07T15:17:04.911827",
     "status": "completed"
    },
    "tags": []
   },
   "outputs": [
    {
     "name": "stderr",
     "output_type": "stream",
     "text": [
      "2024-02-07 15:17:07.060799: E external/local_xla/xla/stream_executor/cuda/cuda_dnn.cc:9261] Unable to register cuDNN factory: Attempting to register factory for plugin cuDNN when one has already been registered\n",
      "2024-02-07 15:17:07.060931: E external/local_xla/xla/stream_executor/cuda/cuda_fft.cc:607] Unable to register cuFFT factory: Attempting to register factory for plugin cuFFT when one has already been registered\n",
      "2024-02-07 15:17:07.233970: E external/local_xla/xla/stream_executor/cuda/cuda_blas.cc:1515] Unable to register cuBLAS factory: Attempting to register factory for plugin cuBLAS when one has already been registered\n"
     ]
    }
   ],
   "source": [
    "import tensorflow.keras\n",
    "from keras.models import Sequential \n",
    "from keras.layers import Dense\n",
    "\n",
    "model = Sequential()\n",
    "model.add(Dense(25, input_dim = 5, activation='relu'))\n",
    "model.add(Dense(25, activation='relu'))\n",
    "model.add(Dense(1, activation='linear'))"
   ]
  },
  {
   "cell_type": "code",
   "execution_count": 22,
   "id": "6fd7b2da",
   "metadata": {
    "execution": {
     "iopub.execute_input": "2024-02-07T15:17:19.449733Z",
     "iopub.status.busy": "2024-02-07T15:17:19.449340Z",
     "iopub.status.idle": "2024-02-07T15:17:19.469199Z",
     "shell.execute_reply": "2024-02-07T15:17:19.468214Z"
    },
    "papermill": {
     "duration": 0.0388,
     "end_time": "2024-02-07T15:17:19.477827",
     "exception": false,
     "start_time": "2024-02-07T15:17:19.439027",
     "status": "completed"
    },
    "tags": []
   },
   "outputs": [
    {
     "name": "stdout",
     "output_type": "stream",
     "text": [
      "Model: \"sequential\"\n",
      "_________________________________________________________________\n",
      " Layer (type)                Output Shape              Param #   \n",
      "=================================================================\n",
      " dense (Dense)               (None, 25)                150       \n",
      "                                                                 \n",
      " dense_1 (Dense)             (None, 25)                650       \n",
      "                                                                 \n",
      " dense_2 (Dense)             (None, 1)                 26        \n",
      "                                                                 \n",
      "=================================================================\n",
      "Total params: 826 (3.23 KB)\n",
      "Trainable params: 826 (3.23 KB)\n",
      "Non-trainable params: 0 (0.00 Byte)\n",
      "_________________________________________________________________\n"
     ]
    }
   ],
   "source": [
    "model.summary()"
   ]
  },
  {
   "cell_type": "code",
   "execution_count": 23,
   "id": "b2e4bd83",
   "metadata": {
    "execution": {
     "iopub.execute_input": "2024-02-07T15:17:19.501168Z",
     "iopub.status.busy": "2024-02-07T15:17:19.500803Z",
     "iopub.status.idle": "2024-02-07T15:17:19.523795Z",
     "shell.execute_reply": "2024-02-07T15:17:19.522630Z"
    },
    "papermill": {
     "duration": 0.038401,
     "end_time": "2024-02-07T15:17:19.526326",
     "exception": false,
     "start_time": "2024-02-07T15:17:19.487925",
     "status": "completed"
    },
    "tags": []
   },
   "outputs": [],
   "source": [
    "model.compile(optimizer='adam', loss='mean_squared_error')"
   ]
  },
  {
   "cell_type": "code",
   "execution_count": 24,
   "id": "7d9b30ed",
   "metadata": {
    "execution": {
     "iopub.execute_input": "2024-02-07T15:17:19.548564Z",
     "iopub.status.busy": "2024-02-07T15:17:19.548208Z",
     "iopub.status.idle": "2024-02-07T15:17:20.984431Z",
     "shell.execute_reply": "2024-02-07T15:17:20.983374Z"
    },
    "papermill": {
     "duration": 1.450359,
     "end_time": "2024-02-07T15:17:20.986838",
     "exception": false,
     "start_time": "2024-02-07T15:17:19.536479",
     "status": "completed"
    },
    "tags": []
   },
   "outputs": [
    {
     "name": "stdout",
     "output_type": "stream",
     "text": [
      "Epoch 1/8\n",
      "4/4 [==============================] - 1s 63ms/step - loss: 0.2184 - val_loss: 0.2411\n",
      "Epoch 2/8\n",
      "4/4 [==============================] - 0s 19ms/step - loss: 0.1783 - val_loss: 0.2008\n",
      "Epoch 3/8\n",
      "4/4 [==============================] - 0s 13ms/step - loss: 0.1431 - val_loss: 0.1635\n",
      "Epoch 4/8\n",
      "4/4 [==============================] - 0s 11ms/step - loss: 0.1133 - val_loss: 0.1295\n",
      "Epoch 5/8\n",
      "4/4 [==============================] - 0s 11ms/step - loss: 0.0864 - val_loss: 0.0993\n",
      "Epoch 6/8\n",
      "4/4 [==============================] - 0s 12ms/step - loss: 0.0633 - val_loss: 0.0732\n",
      "Epoch 7/8\n",
      "4/4 [==============================] - 0s 14ms/step - loss: 0.0448 - val_loss: 0.0524\n",
      "Epoch 8/8\n",
      "4/4 [==============================] - 0s 11ms/step - loss: 0.0314 - val_loss: 0.0375\n"
     ]
    }
   ],
   "source": [
    "epochs_hist=model.fit(X_train,y_train, epochs=8, batch_size=75, verbose=1, validation_split=0.2)"
   ]
  },
  {
   "cell_type": "code",
   "execution_count": 25,
   "id": "ba2c9f4f",
   "metadata": {
    "execution": {
     "iopub.execute_input": "2024-02-07T15:17:21.013712Z",
     "iopub.status.busy": "2024-02-07T15:17:21.013327Z",
     "iopub.status.idle": "2024-02-07T15:17:21.019779Z",
     "shell.execute_reply": "2024-02-07T15:17:21.018742Z"
    },
    "papermill": {
     "duration": 0.022085,
     "end_time": "2024-02-07T15:17:21.022011",
     "exception": false,
     "start_time": "2024-02-07T15:17:20.999926",
     "status": "completed"
    },
    "tags": []
   },
   "outputs": [
    {
     "data": {
      "text/plain": [
       "dict_keys(['loss', 'val_loss'])"
      ]
     },
     "execution_count": 25,
     "metadata": {},
     "output_type": "execute_result"
    }
   ],
   "source": [
    "epochs_hist.history.keys()"
   ]
  },
  {
   "cell_type": "code",
   "execution_count": 26,
   "id": "a00e2ca2",
   "metadata": {
    "execution": {
     "iopub.execute_input": "2024-02-07T15:17:21.052018Z",
     "iopub.status.busy": "2024-02-07T15:17:21.051533Z",
     "iopub.status.idle": "2024-02-07T15:17:21.384077Z",
     "shell.execute_reply": "2024-02-07T15:17:21.382750Z"
    },
    "papermill": {
     "duration": 0.352859,
     "end_time": "2024-02-07T15:17:21.386826",
     "exception": false,
     "start_time": "2024-02-07T15:17:21.033967",
     "status": "completed"
    },
    "tags": []
   },
   "outputs": [
    {
     "data": {
      "text/plain": [
       "<matplotlib.legend.Legend at 0x7e30e5ad7130>"
      ]
     },
     "execution_count": 26,
     "metadata": {},
     "output_type": "execute_result"
    },
    {
     "data": {
      "image/png": "[encoded data removed]",
      "text/plain": [
       "<Figure size 640x480 with 1 Axes>"
      ]
     },
     "metadata": {},
     "output_type": "display_data"
    }
   ],
   "source": [
    "plt.plot(epochs_hist.history['loss'])\n",
    "plt.plot(epochs_hist.history['val_loss'])\n",
    "plt.title('Model Lost Progress During Training')\n",
    "plt.ylabel('Training and Validation Loss')\n",
    "plt.xlabel('Epoch number')\n",
    "plt.legend(['Training Loss', 'Validation Loss'])"
   ]
  },
  {
   "cell_type": "code",
   "execution_count": 27,
   "id": "4df8af02",
   "metadata": {
    "execution": {
     "iopub.execute_input": "2024-02-07T15:17:21.418462Z",
     "iopub.status.busy": "2024-02-07T15:17:21.418069Z",
     "iopub.status.idle": "2024-02-07T15:17:21.596062Z",
     "shell.execute_reply": "2024-02-07T15:17:21.594952Z"
    },
    "papermill": {
     "duration": 0.193922,
     "end_time": "2024-02-07T15:17:21.598477",
     "exception": false,
     "start_time": "2024-02-07T15:17:21.404555",
     "status": "completed"
    },
    "tags": []
   },
   "outputs": [
    {
     "name": "stdout",
     "output_type": "stream",
     "text": [
      "5/5 [==============================] - 0s 2ms/step\n"
     ]
    }
   ],
   "source": [
    "# Gender, Age, Annual Salary, Credit Card Debt, Net worth\n",
    "x_test=np.array([1,50,50000,10000,600000])\n",
    "y_predict=model.predict(X_test)"
   ]
  },
  {
   "cell_type": "code",
   "execution_count": 28,
   "id": "537094d2",
   "metadata": {
    "execution": {
     "iopub.execute_input": "2024-02-07T15:17:21.626302Z",
     "iopub.status.busy": "2024-02-07T15:17:21.625423Z",
     "iopub.status.idle": "2024-02-07T15:17:21.633650Z",
     "shell.execute_reply": "2024-02-07T15:17:21.632735Z"
    },
    "papermill": {
     "duration": 0.025617,
     "end_time": "2024-02-07T15:17:21.636714",
     "exception": false,
     "start_time": "2024-02-07T15:17:21.611097",
     "status": "completed"
    },
    "tags": []
   },
   "outputs": [
    {
     "name": "stdout",
     "output_type": "stream",
     "text": [
      "Expected Purchase Amount [[0.42962983]\n",
      " [0.43853635]\n",
      " [0.40001827]\n",
      " [0.4634066 ]\n",
      " [0.47369754]\n",
      " [0.45805603]\n",
      " [0.398687  ]\n",
      " [0.4822609 ]\n",
      " [0.3636485 ]\n",
      " [0.4232482 ]\n",
      " [0.41458347]\n",
      " [0.32803294]\n",
      " [0.3067958 ]\n",
      " [0.34758988]\n",
      " [0.43094128]\n",
      " [0.46360606]\n",
      " [0.48849592]\n",
      " [0.44170085]\n",
      " [0.33545688]\n",
      " [0.44556803]\n",
      " [0.35521376]\n",
      " [0.35302863]\n",
      " [0.3032632 ]\n",
      " [0.52698755]\n",
      " [0.33380413]\n",
      " [0.41256478]\n",
      " [0.33188993]\n",
      " [0.38369268]\n",
      " [0.46169123]\n",
      " [0.35035148]\n",
      " [0.5513445 ]\n",
      " [0.3731703 ]\n",
      " [0.4026238 ]\n",
      " [0.43991327]\n",
      " [0.47414464]\n",
      " [0.4590069 ]\n",
      " [0.513019  ]\n",
      " [0.3315986 ]\n",
      " [0.37791023]\n",
      " [0.48269376]\n",
      " [0.40957323]\n",
      " [0.4526251 ]\n",
      " [0.43208146]\n",
      " [0.3295578 ]\n",
      " [0.42112413]\n",
      " [0.42901653]\n",
      " [0.32021353]\n",
      " [0.40594447]\n",
      " [0.53493667]\n",
      " [0.32960108]\n",
      " [0.49905354]\n",
      " [0.39541557]\n",
      " [0.43077606]\n",
      " [0.45463988]\n",
      " [0.35526535]\n",
      " [0.4280224 ]\n",
      " [0.4070215 ]\n",
      " [0.5023393 ]\n",
      " [0.40122896]\n",
      " [0.33428997]\n",
      " [0.32623386]\n",
      " [0.45036125]\n",
      " [0.41264278]\n",
      " [0.38622802]\n",
      " [0.52406913]\n",
      " [0.43483323]\n",
      " [0.43183374]\n",
      " [0.384927  ]\n",
      " [0.4790039 ]\n",
      " [0.47071856]\n",
      " [0.3748897 ]\n",
      " [0.3089693 ]\n",
      " [0.32659817]\n",
      " [0.4012198 ]\n",
      " [0.41270545]\n",
      " [0.4018472 ]\n",
      " [0.31073022]\n",
      " [0.45010194]\n",
      " [0.4446734 ]\n",
      " [0.35943505]\n",
      " [0.47681314]\n",
      " [0.43116978]\n",
      " [0.49473205]\n",
      " [0.3773187 ]\n",
      " [0.5192044 ]\n",
      " [0.41554788]\n",
      " [0.4117763 ]\n",
      " [0.29176188]\n",
      " [0.38240457]\n",
      " [0.37805352]\n",
      " [0.49963215]\n",
      " [0.44518852]\n",
      " [0.42885062]\n",
      " [0.40116334]\n",
      " [0.39209723]\n",
      " [0.38739032]\n",
      " [0.3715729 ]\n",
      " [0.40307835]\n",
      " [0.39723703]\n",
      " [0.4598591 ]\n",
      " [0.4129955 ]\n",
      " [0.40802085]\n",
      " [0.3679233 ]\n",
      " [0.3831512 ]\n",
      " [0.46594548]\n",
      " [0.4887447 ]\n",
      " [0.42424425]\n",
      " [0.42584664]\n",
      " [0.46345523]\n",
      " [0.3526657 ]\n",
      " [0.49225554]\n",
      " [0.51200074]\n",
      " [0.40567932]\n",
      " [0.39049357]\n",
      " [0.42588112]\n",
      " [0.37158114]\n",
      " [0.5254349 ]\n",
      " [0.45451087]\n",
      " [0.34866107]\n",
      " [0.390113  ]\n",
      " [0.54335076]\n",
      " [0.3780858 ]\n",
      " [0.40204912]\n",
      " [0.38043132]\n",
      " [0.49461114]\n",
      " [0.37353033]\n",
      " [0.41107193]\n",
      " [0.46792275]\n",
      " [0.35927507]\n",
      " [0.32178175]\n",
      " [0.4352341 ]\n",
      " [0.5217084 ]\n",
      " [0.3838056 ]\n",
      " [0.38676023]\n",
      " [0.3808196 ]\n",
      " [0.33622247]\n",
      " [0.3654319 ]\n",
      " [0.5391858 ]\n",
      " [0.42430484]\n",
      " [0.3585153 ]\n",
      " [0.5299261 ]\n",
      " [0.36506304]\n",
      " [0.39438674]\n",
      " [0.27862647]\n",
      " [0.46573952]\n",
      " [0.48371497]\n",
      " [0.41682673]\n",
      " [0.45139554]\n",
      " [0.4695013 ]\n",
      " [0.4759104 ]]\n"
     ]
    }
   ],
   "source": [
    "print('Expected Purchase Amount', y_predict)"
   ]
  }
 ],
 "metadata": {
  "kaggle": {
   "accelerator": "none",
   "dataSources": [
    {
     "datasetId": 4412031,
     "sourceId": 7579249,
     "sourceType": "datasetVersion"
    }
   ],
   "dockerImageVersionId": 30646,
   "isGpuEnabled": false,
   "isInternetEnabled": true,
   "language": "python",
   "sourceType": "notebook"
  },
  "kernelspec": {
   "display_name": "Python 3",
   "language": "python",
   "name": "python3"
  },
  "language_info": {
   "codemirror_mode": {
    "name": "ipython",
    "version": 3
   },
   "file_extension": ".py",
   "mimetype": "text/x-python",
   "name": "python",
   "nbconvert_exporter": "python",
   "pygments_lexer": "ipython3",
   "version": "3.10.13"
  },
  "papermill": {
   "default_parameters": {},
   "duration": 25.03489,
   "end_time": "2024-02-07T15:17:24.084218",
   "environment_variables": {},
   "exception": null,
   "input_path": "__notebook__.ipynb",
   "output_path": "__notebook__.ipynb",
   "parameters": {},
   "start_time": "2024-02-07T15:16:59.049328",
   "version": "2.5.0"
  }
 },
 "nbformat": 4,
 "nbformat_minor": 5
}
