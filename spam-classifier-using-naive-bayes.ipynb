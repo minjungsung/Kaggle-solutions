{
 "cells": [
  {
   "cell_type": "code",
   "execution_count": 1,
   "id": "37443f08",
   "metadata": {
    "_cell_guid": "b1076dfc-b9ad-4769-8c92-a6c4dae69d19",
    "_uuid": "8f2839f25d086af736a60e9eeb907d3b93b6e0e5",
    "execution": {
     "iopub.execute_input": "2024-02-10T15:41:15.021055Z",
     "iopub.status.busy": "2024-02-10T15:41:15.020597Z",
     "iopub.status.idle": "2024-02-10T15:41:17.276195Z",
     "shell.execute_reply": "2024-02-10T15:41:17.275028Z"
    },
    "papermill": {
     "duration": 2.270403,
     "end_time": "2024-02-10T15:41:17.279349",
     "exception": false,
     "start_time": "2024-02-10T15:41:15.008946",
     "status": "completed"
    },
    "tags": []
   },
   "outputs": [],
   "source": [
    "import numpy as np\n",
    "import pandas as pd\n",
    "import matplotlib.pyplot as plt\n",
    "import seaborn as sns"
   ]
  },
  {
   "cell_type": "code",
   "execution_count": 2,
   "id": "68e8e494",
   "metadata": {
    "execution": {
     "iopub.execute_input": "2024-02-10T15:41:17.299830Z",
     "iopub.status.busy": "2024-02-10T15:41:17.299205Z",
     "iopub.status.idle": "2024-02-10T15:41:17.492713Z",
     "shell.execute_reply": "2024-02-10T15:41:17.491564Z"
    },
    "papermill": {
     "duration": 0.207302,
     "end_time": "2024-02-10T15:41:17.495824",
     "exception": false,
     "start_time": "2024-02-10T15:41:17.288522",
     "status": "completed"
    },
    "tags": []
   },
   "outputs": [],
   "source": [
    "spam_df = pd.read_csv('/kaggle/input/emails/emails.csv')"
   ]
  },
  {
   "cell_type": "code",
   "execution_count": 3,
   "id": "1923ea27",
   "metadata": {
    "execution": {
     "iopub.execute_input": "2024-02-10T15:41:17.516363Z",
     "iopub.status.busy": "2024-02-10T15:41:17.515665Z",
     "iopub.status.idle": "2024-02-10T15:41:17.538371Z",
     "shell.execute_reply": "2024-02-10T15:41:17.537566Z"
    },
    "papermill": {
     "duration": 0.035444,
     "end_time": "2024-02-10T15:41:17.540553",
     "exception": false,
     "start_time": "2024-02-10T15:41:17.505109",
     "status": "completed"
    },
    "tags": []
   },
   "outputs": [
    {
     "data": {
      "text/html": [
       "<div>\n",
       "<style scoped>\n",
       "    .dataframe tbody tr th:only-of-type {\n",
       "        vertical-align: middle;\n",
       "    }\n",
       "\n",
       "    .dataframe tbody tr th {\n",
       "        vertical-align: top;\n",
       "    }\n",
       "\n",
       "    .dataframe thead th {\n",
       "        text-align: right;\n",
       "    }\n",
       "</style>\n",
       "<table border=\"1\" class=\"dataframe\">\n",
       "  <thead>\n",
       "    <tr style=\"text-align: right;\">\n",
       "      <th></th>\n",
       "      <th>text</th>\n",
       "      <th>spam</th>\n",
       "    </tr>\n",
       "  </thead>\n",
       "  <tbody>\n",
       "    <tr>\n",
       "      <th>0</th>\n",
       "      <td>Subject: naturally irresistible your corporate...</td>\n",
       "      <td>1</td>\n",
       "    </tr>\n",
       "    <tr>\n",
       "      <th>1</th>\n",
       "      <td>Subject: the stock trading gunslinger  fanny i...</td>\n",
       "      <td>1</td>\n",
       "    </tr>\n",
       "    <tr>\n",
       "      <th>2</th>\n",
       "      <td>Subject: unbelievable new homes made easy  im ...</td>\n",
       "      <td>1</td>\n",
       "    </tr>\n",
       "    <tr>\n",
       "      <th>3</th>\n",
       "      <td>Subject: 4 color printing special  request add...</td>\n",
       "      <td>1</td>\n",
       "    </tr>\n",
       "    <tr>\n",
       "      <th>4</th>\n",
       "      <td>Subject: do not have money , get software cds ...</td>\n",
       "      <td>1</td>\n",
       "    </tr>\n",
       "    <tr>\n",
       "      <th>...</th>\n",
       "      <td>...</td>\n",
       "      <td>...</td>\n",
       "    </tr>\n",
       "    <tr>\n",
       "      <th>5723</th>\n",
       "      <td>Subject: re : research and development charges...</td>\n",
       "      <td>0</td>\n",
       "    </tr>\n",
       "    <tr>\n",
       "      <th>5724</th>\n",
       "      <td>Subject: re : receipts from visit  jim ,  than...</td>\n",
       "      <td>0</td>\n",
       "    </tr>\n",
       "    <tr>\n",
       "      <th>5725</th>\n",
       "      <td>Subject: re : enron case study update  wow ! a...</td>\n",
       "      <td>0</td>\n",
       "    </tr>\n",
       "    <tr>\n",
       "      <th>5726</th>\n",
       "      <td>Subject: re : interest  david ,  please , call...</td>\n",
       "      <td>0</td>\n",
       "    </tr>\n",
       "    <tr>\n",
       "      <th>5727</th>\n",
       "      <td>Subject: news : aurora 5 . 2 update  aurora ve...</td>\n",
       "      <td>0</td>\n",
       "    </tr>\n",
       "  </tbody>\n",
       "</table>\n",
       "<p>5728 rows × 2 columns</p>\n",
       "</div>"
      ],
      "text/plain": [
       "                                                   text  spam\n",
       "0     Subject: naturally irresistible your corporate...     1\n",
       "1     Subject: the stock trading gunslinger  fanny i...     1\n",
       "2     Subject: unbelievable new homes made easy  im ...     1\n",
       "3     Subject: 4 color printing special  request add...     1\n",
       "4     Subject: do not have money , get software cds ...     1\n",
       "...                                                 ...   ...\n",
       "5723  Subject: re : research and development charges...     0\n",
       "5724  Subject: re : receipts from visit  jim ,  than...     0\n",
       "5725  Subject: re : enron case study update  wow ! a...     0\n",
       "5726  Subject: re : interest  david ,  please , call...     0\n",
       "5727  Subject: news : aurora 5 . 2 update  aurora ve...     0\n",
       "\n",
       "[5728 rows x 2 columns]"
      ]
     },
     "execution_count": 3,
     "metadata": {},
     "output_type": "execute_result"
    }
   ],
   "source": [
    "spam_df"
   ]
  },
  {
   "cell_type": "code",
   "execution_count": 4,
   "id": "a0bec7fd",
   "metadata": {
    "execution": {
     "iopub.execute_input": "2024-02-10T15:41:17.561621Z",
     "iopub.status.busy": "2024-02-10T15:41:17.560799Z",
     "iopub.status.idle": "2024-02-10T15:41:17.570465Z",
     "shell.execute_reply": "2024-02-10T15:41:17.569667Z"
    },
    "papermill": {
     "duration": 0.022727,
     "end_time": "2024-02-10T15:41:17.572720",
     "exception": false,
     "start_time": "2024-02-10T15:41:17.549993",
     "status": "completed"
    },
    "tags": []
   },
   "outputs": [
    {
     "data": {
      "text/html": [
       "<div>\n",
       "<style scoped>\n",
       "    .dataframe tbody tr th:only-of-type {\n",
       "        vertical-align: middle;\n",
       "    }\n",
       "\n",
       "    .dataframe tbody tr th {\n",
       "        vertical-align: top;\n",
       "    }\n",
       "\n",
       "    .dataframe thead th {\n",
       "        text-align: right;\n",
       "    }\n",
       "</style>\n",
       "<table border=\"1\" class=\"dataframe\">\n",
       "  <thead>\n",
       "    <tr style=\"text-align: right;\">\n",
       "      <th></th>\n",
       "      <th>text</th>\n",
       "      <th>spam</th>\n",
       "    </tr>\n",
       "  </thead>\n",
       "  <tbody>\n",
       "    <tr>\n",
       "      <th>0</th>\n",
       "      <td>Subject: naturally irresistible your corporate...</td>\n",
       "      <td>1</td>\n",
       "    </tr>\n",
       "    <tr>\n",
       "      <th>1</th>\n",
       "      <td>Subject: the stock trading gunslinger  fanny i...</td>\n",
       "      <td>1</td>\n",
       "    </tr>\n",
       "    <tr>\n",
       "      <th>2</th>\n",
       "      <td>Subject: unbelievable new homes made easy  im ...</td>\n",
       "      <td>1</td>\n",
       "    </tr>\n",
       "    <tr>\n",
       "      <th>3</th>\n",
       "      <td>Subject: 4 color printing special  request add...</td>\n",
       "      <td>1</td>\n",
       "    </tr>\n",
       "    <tr>\n",
       "      <th>4</th>\n",
       "      <td>Subject: do not have money , get software cds ...</td>\n",
       "      <td>1</td>\n",
       "    </tr>\n",
       "  </tbody>\n",
       "</table>\n",
       "</div>"
      ],
      "text/plain": [
       "                                                text  spam\n",
       "0  Subject: naturally irresistible your corporate...     1\n",
       "1  Subject: the stock trading gunslinger  fanny i...     1\n",
       "2  Subject: unbelievable new homes made easy  im ...     1\n",
       "3  Subject: 4 color printing special  request add...     1\n",
       "4  Subject: do not have money , get software cds ...     1"
      ]
     },
     "execution_count": 4,
     "metadata": {},
     "output_type": "execute_result"
    }
   ],
   "source": [
    "spam_df.head()"
   ]
  },
  {
   "cell_type": "code",
   "execution_count": 5,
   "id": "df42e1b4",
   "metadata": {
    "execution": {
     "iopub.execute_input": "2024-02-10T15:41:17.594803Z",
     "iopub.status.busy": "2024-02-10T15:41:17.593518Z",
     "iopub.status.idle": "2024-02-10T15:41:17.615337Z",
     "shell.execute_reply": "2024-02-10T15:41:17.613228Z"
    },
    "papermill": {
     "duration": 0.035986,
     "end_time": "2024-02-10T15:41:17.618190",
     "exception": false,
     "start_time": "2024-02-10T15:41:17.582204",
     "status": "completed"
    },
    "tags": []
   },
   "outputs": [
    {
     "data": {
      "text/html": [
       "<div>\n",
       "<style scoped>\n",
       "    .dataframe tbody tr th:only-of-type {\n",
       "        vertical-align: middle;\n",
       "    }\n",
       "\n",
       "    .dataframe tbody tr th {\n",
       "        vertical-align: top;\n",
       "    }\n",
       "\n",
       "    .dataframe thead th {\n",
       "        text-align: right;\n",
       "    }\n",
       "</style>\n",
       "<table border=\"1\" class=\"dataframe\">\n",
       "  <thead>\n",
       "    <tr style=\"text-align: right;\">\n",
       "      <th></th>\n",
       "      <th>spam</th>\n",
       "    </tr>\n",
       "  </thead>\n",
       "  <tbody>\n",
       "    <tr>\n",
       "      <th>count</th>\n",
       "      <td>5728.000000</td>\n",
       "    </tr>\n",
       "    <tr>\n",
       "      <th>mean</th>\n",
       "      <td>0.238827</td>\n",
       "    </tr>\n",
       "    <tr>\n",
       "      <th>std</th>\n",
       "      <td>0.426404</td>\n",
       "    </tr>\n",
       "    <tr>\n",
       "      <th>min</th>\n",
       "      <td>0.000000</td>\n",
       "    </tr>\n",
       "    <tr>\n",
       "      <th>25%</th>\n",
       "      <td>0.000000</td>\n",
       "    </tr>\n",
       "    <tr>\n",
       "      <th>50%</th>\n",
       "      <td>0.000000</td>\n",
       "    </tr>\n",
       "    <tr>\n",
       "      <th>75%</th>\n",
       "      <td>0.000000</td>\n",
       "    </tr>\n",
       "    <tr>\n",
       "      <th>max</th>\n",
       "      <td>1.000000</td>\n",
       "    </tr>\n",
       "  </tbody>\n",
       "</table>\n",
       "</div>"
      ],
      "text/plain": [
       "              spam\n",
       "count  5728.000000\n",
       "mean      0.238827\n",
       "std       0.426404\n",
       "min       0.000000\n",
       "25%       0.000000\n",
       "50%       0.000000\n",
       "75%       0.000000\n",
       "max       1.000000"
      ]
     },
     "execution_count": 5,
     "metadata": {},
     "output_type": "execute_result"
    }
   ],
   "source": [
    "spam_df.describe()"
   ]
  },
  {
   "cell_type": "code",
   "execution_count": 6,
   "id": "73bee4f0",
   "metadata": {
    "execution": {
     "iopub.execute_input": "2024-02-10T15:41:17.640650Z",
     "iopub.status.busy": "2024-02-10T15:41:17.640199Z",
     "iopub.status.idle": "2024-02-10T15:41:17.664184Z",
     "shell.execute_reply": "2024-02-10T15:41:17.662396Z"
    },
    "papermill": {
     "duration": 0.03774,
     "end_time": "2024-02-10T15:41:17.666970",
     "exception": false,
     "start_time": "2024-02-10T15:41:17.629230",
     "status": "completed"
    },
    "tags": []
   },
   "outputs": [
    {
     "name": "stdout",
     "output_type": "stream",
     "text": [
      "<class 'pandas.core.frame.DataFrame'>\n",
      "RangeIndex: 5728 entries, 0 to 5727\n",
      "Data columns (total 2 columns):\n",
      " #   Column  Non-Null Count  Dtype \n",
      "---  ------  --------------  ----- \n",
      " 0   text    5728 non-null   object\n",
      " 1   spam    5728 non-null   int64 \n",
      "dtypes: int64(1), object(1)\n",
      "memory usage: 89.6+ KB\n"
     ]
    }
   ],
   "source": [
    "spam_df.info()"
   ]
  },
  {
   "cell_type": "code",
   "execution_count": 7,
   "id": "5908f170",
   "metadata": {
    "execution": {
     "iopub.execute_input": "2024-02-10T15:41:17.688541Z",
     "iopub.status.busy": "2024-02-10T15:41:17.687768Z",
     "iopub.status.idle": "2024-02-10T15:41:17.694163Z",
     "shell.execute_reply": "2024-02-10T15:41:17.693369Z"
    },
    "papermill": {
     "duration": 0.019751,
     "end_time": "2024-02-10T15:41:17.696557",
     "exception": false,
     "start_time": "2024-02-10T15:41:17.676806",
     "status": "completed"
    },
    "tags": []
   },
   "outputs": [],
   "source": [
    "ham = spam_df[spam_df['spam']==0]"
   ]
  },
  {
   "cell_type": "code",
   "execution_count": 8,
   "id": "c8ad3cd1",
   "metadata": {
    "execution": {
     "iopub.execute_input": "2024-02-10T15:41:17.718477Z",
     "iopub.status.busy": "2024-02-10T15:41:17.718027Z",
     "iopub.status.idle": "2024-02-10T15:41:17.730151Z",
     "shell.execute_reply": "2024-02-10T15:41:17.729033Z"
    },
    "papermill": {
     "duration": 0.025941,
     "end_time": "2024-02-10T15:41:17.732618",
     "exception": false,
     "start_time": "2024-02-10T15:41:17.706677",
     "status": "completed"
    },
    "tags": []
   },
   "outputs": [
    {
     "data": {
      "text/html": [
       "<div>\n",
       "<style scoped>\n",
       "    .dataframe tbody tr th:only-of-type {\n",
       "        vertical-align: middle;\n",
       "    }\n",
       "\n",
       "    .dataframe tbody tr th {\n",
       "        vertical-align: top;\n",
       "    }\n",
       "\n",
       "    .dataframe thead th {\n",
       "        text-align: right;\n",
       "    }\n",
       "</style>\n",
       "<table border=\"1\" class=\"dataframe\">\n",
       "  <thead>\n",
       "    <tr style=\"text-align: right;\">\n",
       "      <th></th>\n",
       "      <th>text</th>\n",
       "      <th>spam</th>\n",
       "    </tr>\n",
       "  </thead>\n",
       "  <tbody>\n",
       "    <tr>\n",
       "      <th>1368</th>\n",
       "      <td>Subject: hello guys ,  i ' m \" bugging you \" f...</td>\n",
       "      <td>0</td>\n",
       "    </tr>\n",
       "    <tr>\n",
       "      <th>1369</th>\n",
       "      <td>Subject: sacramento weather station  fyi  - - ...</td>\n",
       "      <td>0</td>\n",
       "    </tr>\n",
       "    <tr>\n",
       "      <th>1370</th>\n",
       "      <td>Subject: from the enron india newsdesk - jan 1...</td>\n",
       "      <td>0</td>\n",
       "    </tr>\n",
       "    <tr>\n",
       "      <th>1371</th>\n",
       "      <td>Subject: re : powerisk 2001 - your invitation ...</td>\n",
       "      <td>0</td>\n",
       "    </tr>\n",
       "    <tr>\n",
       "      <th>1372</th>\n",
       "      <td>Subject: re : resco database and customer capt...</td>\n",
       "      <td>0</td>\n",
       "    </tr>\n",
       "    <tr>\n",
       "      <th>...</th>\n",
       "      <td>...</td>\n",
       "      <td>...</td>\n",
       "    </tr>\n",
       "    <tr>\n",
       "      <th>5723</th>\n",
       "      <td>Subject: re : research and development charges...</td>\n",
       "      <td>0</td>\n",
       "    </tr>\n",
       "    <tr>\n",
       "      <th>5724</th>\n",
       "      <td>Subject: re : receipts from visit  jim ,  than...</td>\n",
       "      <td>0</td>\n",
       "    </tr>\n",
       "    <tr>\n",
       "      <th>5725</th>\n",
       "      <td>Subject: re : enron case study update  wow ! a...</td>\n",
       "      <td>0</td>\n",
       "    </tr>\n",
       "    <tr>\n",
       "      <th>5726</th>\n",
       "      <td>Subject: re : interest  david ,  please , call...</td>\n",
       "      <td>0</td>\n",
       "    </tr>\n",
       "    <tr>\n",
       "      <th>5727</th>\n",
       "      <td>Subject: news : aurora 5 . 2 update  aurora ve...</td>\n",
       "      <td>0</td>\n",
       "    </tr>\n",
       "  </tbody>\n",
       "</table>\n",
       "<p>4360 rows × 2 columns</p>\n",
       "</div>"
      ],
      "text/plain": [
       "                                                   text  spam\n",
       "1368  Subject: hello guys ,  i ' m \" bugging you \" f...     0\n",
       "1369  Subject: sacramento weather station  fyi  - - ...     0\n",
       "1370  Subject: from the enron india newsdesk - jan 1...     0\n",
       "1371  Subject: re : powerisk 2001 - your invitation ...     0\n",
       "1372  Subject: re : resco database and customer capt...     0\n",
       "...                                                 ...   ...\n",
       "5723  Subject: re : research and development charges...     0\n",
       "5724  Subject: re : receipts from visit  jim ,  than...     0\n",
       "5725  Subject: re : enron case study update  wow ! a...     0\n",
       "5726  Subject: re : interest  david ,  please , call...     0\n",
       "5727  Subject: news : aurora 5 . 2 update  aurora ve...     0\n",
       "\n",
       "[4360 rows x 2 columns]"
      ]
     },
     "execution_count": 8,
     "metadata": {},
     "output_type": "execute_result"
    }
   ],
   "source": [
    "ham"
   ]
  },
  {
   "cell_type": "code",
   "execution_count": 9,
   "id": "2113e5eb",
   "metadata": {
    "execution": {
     "iopub.execute_input": "2024-02-10T15:41:17.756701Z",
     "iopub.status.busy": "2024-02-10T15:41:17.756230Z",
     "iopub.status.idle": "2024-02-10T15:41:17.762678Z",
     "shell.execute_reply": "2024-02-10T15:41:17.761574Z"
    },
    "papermill": {
     "duration": 0.020087,
     "end_time": "2024-02-10T15:41:17.764967",
     "exception": false,
     "start_time": "2024-02-10T15:41:17.744880",
     "status": "completed"
    },
    "tags": []
   },
   "outputs": [],
   "source": [
    "spam=spam_df[spam_df['spam']==1]"
   ]
  },
  {
   "cell_type": "code",
   "execution_count": 10,
   "id": "f6d2a908",
   "metadata": {
    "execution": {
     "iopub.execute_input": "2024-02-10T15:41:17.787127Z",
     "iopub.status.busy": "2024-02-10T15:41:17.786656Z",
     "iopub.status.idle": "2024-02-10T15:41:17.798770Z",
     "shell.execute_reply": "2024-02-10T15:41:17.797653Z"
    },
    "papermill": {
     "duration": 0.025884,
     "end_time": "2024-02-10T15:41:17.801112",
     "exception": false,
     "start_time": "2024-02-10T15:41:17.775228",
     "status": "completed"
    },
    "tags": []
   },
   "outputs": [
    {
     "data": {
      "text/html": [
       "<div>\n",
       "<style scoped>\n",
       "    .dataframe tbody tr th:only-of-type {\n",
       "        vertical-align: middle;\n",
       "    }\n",
       "\n",
       "    .dataframe tbody tr th {\n",
       "        vertical-align: top;\n",
       "    }\n",
       "\n",
       "    .dataframe thead th {\n",
       "        text-align: right;\n",
       "    }\n",
       "</style>\n",
       "<table border=\"1\" class=\"dataframe\">\n",
       "  <thead>\n",
       "    <tr style=\"text-align: right;\">\n",
       "      <th></th>\n",
       "      <th>text</th>\n",
       "      <th>spam</th>\n",
       "    </tr>\n",
       "  </thead>\n",
       "  <tbody>\n",
       "    <tr>\n",
       "      <th>0</th>\n",
       "      <td>Subject: naturally irresistible your corporate...</td>\n",
       "      <td>1</td>\n",
       "    </tr>\n",
       "    <tr>\n",
       "      <th>1</th>\n",
       "      <td>Subject: the stock trading gunslinger  fanny i...</td>\n",
       "      <td>1</td>\n",
       "    </tr>\n",
       "    <tr>\n",
       "      <th>2</th>\n",
       "      <td>Subject: unbelievable new homes made easy  im ...</td>\n",
       "      <td>1</td>\n",
       "    </tr>\n",
       "    <tr>\n",
       "      <th>3</th>\n",
       "      <td>Subject: 4 color printing special  request add...</td>\n",
       "      <td>1</td>\n",
       "    </tr>\n",
       "    <tr>\n",
       "      <th>4</th>\n",
       "      <td>Subject: do not have money , get software cds ...</td>\n",
       "      <td>1</td>\n",
       "    </tr>\n",
       "    <tr>\n",
       "      <th>...</th>\n",
       "      <td>...</td>\n",
       "      <td>...</td>\n",
       "    </tr>\n",
       "    <tr>\n",
       "      <th>5723</th>\n",
       "      <td>Subject: re : research and development charges...</td>\n",
       "      <td>0</td>\n",
       "    </tr>\n",
       "    <tr>\n",
       "      <th>5724</th>\n",
       "      <td>Subject: re : receipts from visit  jim ,  than...</td>\n",
       "      <td>0</td>\n",
       "    </tr>\n",
       "    <tr>\n",
       "      <th>5725</th>\n",
       "      <td>Subject: re : enron case study update  wow ! a...</td>\n",
       "      <td>0</td>\n",
       "    </tr>\n",
       "    <tr>\n",
       "      <th>5726</th>\n",
       "      <td>Subject: re : interest  david ,  please , call...</td>\n",
       "      <td>0</td>\n",
       "    </tr>\n",
       "    <tr>\n",
       "      <th>5727</th>\n",
       "      <td>Subject: news : aurora 5 . 2 update  aurora ve...</td>\n",
       "      <td>0</td>\n",
       "    </tr>\n",
       "  </tbody>\n",
       "</table>\n",
       "<p>5728 rows × 2 columns</p>\n",
       "</div>"
      ],
      "text/plain": [
       "                                                   text  spam\n",
       "0     Subject: naturally irresistible your corporate...     1\n",
       "1     Subject: the stock trading gunslinger  fanny i...     1\n",
       "2     Subject: unbelievable new homes made easy  im ...     1\n",
       "3     Subject: 4 color printing special  request add...     1\n",
       "4     Subject: do not have money , get software cds ...     1\n",
       "...                                                 ...   ...\n",
       "5723  Subject: re : research and development charges...     0\n",
       "5724  Subject: re : receipts from visit  jim ,  than...     0\n",
       "5725  Subject: re : enron case study update  wow ! a...     0\n",
       "5726  Subject: re : interest  david ,  please , call...     0\n",
       "5727  Subject: news : aurora 5 . 2 update  aurora ve...     0\n",
       "\n",
       "[5728 rows x 2 columns]"
      ]
     },
     "execution_count": 10,
     "metadata": {},
     "output_type": "execute_result"
    }
   ],
   "source": [
    "spam_df"
   ]
  },
  {
   "cell_type": "code",
   "execution_count": 11,
   "id": "8f3e772b",
   "metadata": {
    "execution": {
     "iopub.execute_input": "2024-02-10T15:41:17.823431Z",
     "iopub.status.busy": "2024-02-10T15:41:17.822982Z",
     "iopub.status.idle": "2024-02-10T15:41:17.829578Z",
     "shell.execute_reply": "2024-02-10T15:41:17.828387Z"
    },
    "papermill": {
     "duration": 0.021287,
     "end_time": "2024-02-10T15:41:17.832655",
     "exception": false,
     "start_time": "2024-02-10T15:41:17.811368",
     "status": "completed"
    },
    "tags": []
   },
   "outputs": [
    {
     "name": "stdout",
     "output_type": "stream",
     "text": [
      "Spam Percentage= 23.88268156424581 %\n"
     ]
    }
   ],
   "source": [
    "print('Spam Percentage=', (len(spam)/len(spam_df))*100,'%')"
   ]
  },
  {
   "cell_type": "code",
   "execution_count": 12,
   "id": "1dd0753b",
   "metadata": {
    "execution": {
     "iopub.execute_input": "2024-02-10T15:41:17.855123Z",
     "iopub.status.busy": "2024-02-10T15:41:17.854694Z",
     "iopub.status.idle": "2024-02-10T15:41:17.861282Z",
     "shell.execute_reply": "2024-02-10T15:41:17.859892Z"
    },
    "papermill": {
     "duration": 0.020782,
     "end_time": "2024-02-10T15:41:17.863599",
     "exception": false,
     "start_time": "2024-02-10T15:41:17.842817",
     "status": "completed"
    },
    "tags": []
   },
   "outputs": [
    {
     "name": "stdout",
     "output_type": "stream",
     "text": [
      "Ham Percentage= 76.11731843575419 %\n"
     ]
    }
   ],
   "source": [
    "print('Ham Percentage=', (len(ham)/len(spam_df))*100,'%')"
   ]
  },
  {
   "cell_type": "code",
   "execution_count": 13,
   "id": "dbc86a17",
   "metadata": {
    "execution": {
     "iopub.execute_input": "2024-02-10T15:41:17.886785Z",
     "iopub.status.busy": "2024-02-10T15:41:17.886284Z",
     "iopub.status.idle": "2024-02-10T15:41:17.898501Z",
     "shell.execute_reply": "2024-02-10T15:41:17.897332Z"
    },
    "papermill": {
     "duration": 0.026611,
     "end_time": "2024-02-10T15:41:17.900821",
     "exception": false,
     "start_time": "2024-02-10T15:41:17.874210",
     "status": "completed"
    },
    "tags": []
   },
   "outputs": [
    {
     "data": {
      "text/html": [
       "<div>\n",
       "<style scoped>\n",
       "    .dataframe tbody tr th:only-of-type {\n",
       "        vertical-align: middle;\n",
       "    }\n",
       "\n",
       "    .dataframe tbody tr th {\n",
       "        vertical-align: top;\n",
       "    }\n",
       "\n",
       "    .dataframe thead th {\n",
       "        text-align: right;\n",
       "    }\n",
       "</style>\n",
       "<table border=\"1\" class=\"dataframe\">\n",
       "  <thead>\n",
       "    <tr style=\"text-align: right;\">\n",
       "      <th></th>\n",
       "      <th>text</th>\n",
       "      <th>spam</th>\n",
       "    </tr>\n",
       "  </thead>\n",
       "  <tbody>\n",
       "    <tr>\n",
       "      <th>0</th>\n",
       "      <td>Subject: naturally irresistible your corporate...</td>\n",
       "      <td>1</td>\n",
       "    </tr>\n",
       "    <tr>\n",
       "      <th>1</th>\n",
       "      <td>Subject: the stock trading gunslinger  fanny i...</td>\n",
       "      <td>1</td>\n",
       "    </tr>\n",
       "    <tr>\n",
       "      <th>2</th>\n",
       "      <td>Subject: unbelievable new homes made easy  im ...</td>\n",
       "      <td>1</td>\n",
       "    </tr>\n",
       "    <tr>\n",
       "      <th>3</th>\n",
       "      <td>Subject: 4 color printing special  request add...</td>\n",
       "      <td>1</td>\n",
       "    </tr>\n",
       "    <tr>\n",
       "      <th>4</th>\n",
       "      <td>Subject: do not have money , get software cds ...</td>\n",
       "      <td>1</td>\n",
       "    </tr>\n",
       "    <tr>\n",
       "      <th>...</th>\n",
       "      <td>...</td>\n",
       "      <td>...</td>\n",
       "    </tr>\n",
       "    <tr>\n",
       "      <th>5723</th>\n",
       "      <td>Subject: re : research and development charges...</td>\n",
       "      <td>0</td>\n",
       "    </tr>\n",
       "    <tr>\n",
       "      <th>5724</th>\n",
       "      <td>Subject: re : receipts from visit  jim ,  than...</td>\n",
       "      <td>0</td>\n",
       "    </tr>\n",
       "    <tr>\n",
       "      <th>5725</th>\n",
       "      <td>Subject: re : enron case study update  wow ! a...</td>\n",
       "      <td>0</td>\n",
       "    </tr>\n",
       "    <tr>\n",
       "      <th>5726</th>\n",
       "      <td>Subject: re : interest  david ,  please , call...</td>\n",
       "      <td>0</td>\n",
       "    </tr>\n",
       "    <tr>\n",
       "      <th>5727</th>\n",
       "      <td>Subject: news : aurora 5 . 2 update  aurora ve...</td>\n",
       "      <td>0</td>\n",
       "    </tr>\n",
       "  </tbody>\n",
       "</table>\n",
       "<p>5728 rows × 2 columns</p>\n",
       "</div>"
      ],
      "text/plain": [
       "                                                   text  spam\n",
       "0     Subject: naturally irresistible your corporate...     1\n",
       "1     Subject: the stock trading gunslinger  fanny i...     1\n",
       "2     Subject: unbelievable new homes made easy  im ...     1\n",
       "3     Subject: 4 color printing special  request add...     1\n",
       "4     Subject: do not have money , get software cds ...     1\n",
       "...                                                 ...   ...\n",
       "5723  Subject: re : research and development charges...     0\n",
       "5724  Subject: re : receipts from visit  jim ,  than...     0\n",
       "5725  Subject: re : enron case study update  wow ! a...     0\n",
       "5726  Subject: re : interest  david ,  please , call...     0\n",
       "5727  Subject: news : aurora 5 . 2 update  aurora ve...     0\n",
       "\n",
       "[5728 rows x 2 columns]"
      ]
     },
     "execution_count": 13,
     "metadata": {},
     "output_type": "execute_result"
    }
   ],
   "source": [
    "spam_df"
   ]
  },
  {
   "cell_type": "code",
   "execution_count": 14,
   "id": "f744c402",
   "metadata": {
    "execution": {
     "iopub.execute_input": "2024-02-10T15:41:17.924498Z",
     "iopub.status.busy": "2024-02-10T15:41:17.924002Z",
     "iopub.status.idle": "2024-02-10T15:41:18.109888Z",
     "shell.execute_reply": "2024-02-10T15:41:18.108603Z"
    },
    "papermill": {
     "duration": 0.200905,
     "end_time": "2024-02-10T15:41:18.112802",
     "exception": false,
     "start_time": "2024-02-10T15:41:17.911897",
     "status": "completed"
    },
    "tags": []
   },
   "outputs": [
    {
     "data": {
      "text/plain": [
       "<Axes: ylabel='count'>"
      ]
     },
     "execution_count": 14,
     "metadata": {},
     "output_type": "execute_result"
    },
    {
     "data": {
      "image/png": "[encoded data removed]",
      "text/plain": [
       "<Figure size 640x480 with 1 Axes>"
      ]
     },
     "metadata": {},
     "output_type": "display_data"
    }
   ],
   "source": [
    "sns.countplot(spam_df['spam'], label='Count Spam vs Ham')"
   ]
  },
  {
   "cell_type": "code",
   "execution_count": 15,
   "id": "fc4faaf1",
   "metadata": {
    "execution": {
     "iopub.execute_input": "2024-02-10T15:41:18.137498Z",
     "iopub.status.busy": "2024-02-10T15:41:18.136992Z",
     "iopub.status.idle": "2024-02-10T15:41:18.421978Z",
     "shell.execute_reply": "2024-02-10T15:41:18.420974Z"
    },
    "papermill": {
     "duration": 0.300416,
     "end_time": "2024-02-10T15:41:18.424760",
     "exception": false,
     "start_time": "2024-02-10T15:41:18.124344",
     "status": "completed"
    },
    "tags": []
   },
   "outputs": [],
   "source": [
    "from sklearn.feature_extraction.text import CountVectorizer\n",
    "sample_data=['This is the first document', 'This document is the second document', 'And this document is the third one', 'Is this the first document?']\n",
    "sample_vectorizer = CountVectorizer()"
   ]
  },
  {
   "cell_type": "code",
   "execution_count": 16,
   "id": "3a28299e",
   "metadata": {
    "execution": {
     "iopub.execute_input": "2024-02-10T15:41:18.448400Z",
     "iopub.status.busy": "2024-02-10T15:41:18.447907Z",
     "iopub.status.idle": "2024-02-10T15:41:18.461178Z",
     "shell.execute_reply": "2024-02-10T15:41:18.459947Z"
    },
    "papermill": {
     "duration": 0.028117,
     "end_time": "2024-02-10T15:41:18.463813",
     "exception": false,
     "start_time": "2024-02-10T15:41:18.435696",
     "status": "completed"
    },
    "tags": []
   },
   "outputs": [],
   "source": [
    "X = sample_vectorizer.fit_transform(sample_data)"
   ]
  },
  {
   "cell_type": "code",
   "execution_count": 17,
   "id": "438237fa",
   "metadata": {
    "execution": {
     "iopub.execute_input": "2024-02-10T15:41:18.487411Z",
     "iopub.status.busy": "2024-02-10T15:41:18.486691Z",
     "iopub.status.idle": "2024-02-10T15:41:18.493192Z",
     "shell.execute_reply": "2024-02-10T15:41:18.491864Z"
    },
    "papermill": {
     "duration": 0.020625,
     "end_time": "2024-02-10T15:41:18.495356",
     "exception": false,
     "start_time": "2024-02-10T15:41:18.474731",
     "status": "completed"
    },
    "tags": []
   },
   "outputs": [
    {
     "name": "stdout",
     "output_type": "stream",
     "text": [
      "[[0 1 1 1 0 0 1 0 1]\n",
      " [0 2 0 1 0 1 1 0 1]\n",
      " [1 1 0 1 1 0 1 1 1]\n",
      " [0 1 1 1 0 0 1 0 1]]\n"
     ]
    }
   ],
   "source": [
    "print(X.toarray())"
   ]
  },
  {
   "cell_type": "code",
   "execution_count": 18,
   "id": "191f2f96",
   "metadata": {
    "execution": {
     "iopub.execute_input": "2024-02-10T15:41:18.519276Z",
     "iopub.status.busy": "2024-02-10T15:41:18.518539Z",
     "iopub.status.idle": "2024-02-10T15:41:18.524167Z",
     "shell.execute_reply": "2024-02-10T15:41:18.523087Z"
    },
    "papermill": {
     "duration": 0.020468,
     "end_time": "2024-02-10T15:41:18.526653",
     "exception": false,
     "start_time": "2024-02-10T15:41:18.506185",
     "status": "completed"
    },
    "tags": []
   },
   "outputs": [
    {
     "name": "stdout",
     "output_type": "stream",
     "text": [
      "['and' 'document' 'first' 'is' 'one' 'second' 'the' 'third' 'this']\n"
     ]
    }
   ],
   "source": [
    "print(sample_vectorizer.get_feature_names_out())"
   ]
  },
  {
   "cell_type": "code",
   "execution_count": 19,
   "id": "6f93bfab",
   "metadata": {
    "execution": {
     "iopub.execute_input": "2024-02-10T15:41:18.550979Z",
     "iopub.status.busy": "2024-02-10T15:41:18.550121Z",
     "iopub.status.idle": "2024-02-10T15:41:19.833074Z",
     "shell.execute_reply": "2024-02-10T15:41:19.831846Z"
    },
    "papermill": {
     "duration": 1.298483,
     "end_time": "2024-02-10T15:41:19.836097",
     "exception": false,
     "start_time": "2024-02-10T15:41:18.537614",
     "status": "completed"
    },
    "tags": []
   },
   "outputs": [],
   "source": [
    "from sklearn.feature_extraction.text import CountVectorizer\n",
    "vectorizer = CountVectorizer()\n",
    "spamham_countvectorizer = vectorizer.fit_transform(spam_df['text'])"
   ]
  },
  {
   "cell_type": "code",
   "execution_count": 20,
   "id": "61382e2c",
   "metadata": {
    "execution": {
     "iopub.execute_input": "2024-02-10T15:41:19.860548Z",
     "iopub.status.busy": "2024-02-10T15:41:19.860106Z",
     "iopub.status.idle": "2024-02-10T15:41:19.910631Z",
     "shell.execute_reply": "2024-02-10T15:41:19.909238Z"
    },
    "papermill": {
     "duration": 0.06572,
     "end_time": "2024-02-10T15:41:19.913056",
     "exception": false,
     "start_time": "2024-02-10T15:41:19.847336",
     "status": "completed"
    },
    "tags": []
   },
   "outputs": [
    {
     "name": "stdout",
     "output_type": "stream",
     "text": [
      "['00' '000' '0000' ... 'zzn' 'zzncacst' 'zzzz']\n"
     ]
    }
   ],
   "source": [
    "print(vectorizer.get_feature_names_out())"
   ]
  },
  {
   "cell_type": "code",
   "execution_count": 21,
   "id": "d89db007",
   "metadata": {
    "execution": {
     "iopub.execute_input": "2024-02-10T15:41:19.938665Z",
     "iopub.status.busy": "2024-02-10T15:41:19.937341Z",
     "iopub.status.idle": "2024-02-10T15:41:21.091827Z",
     "shell.execute_reply": "2024-02-10T15:41:21.090609Z"
    },
    "papermill": {
     "duration": 1.169361,
     "end_time": "2024-02-10T15:41:21.094200",
     "exception": false,
     "start_time": "2024-02-10T15:41:19.924839",
     "status": "completed"
    },
    "tags": []
   },
   "outputs": [
    {
     "name": "stdout",
     "output_type": "stream",
     "text": [
      "[[0 0 0 ... 0 0 0]\n",
      " [0 0 0 ... 0 0 0]\n",
      " [0 0 0 ... 0 0 0]\n",
      " ...\n",
      " [4 0 0 ... 0 0 0]\n",
      " [0 0 0 ... 0 0 0]\n",
      " [0 0 0 ... 0 0 0]]\n"
     ]
    }
   ],
   "source": [
    "print(spamham_countvectorizer.toarray())"
   ]
  },
  {
   "cell_type": "code",
   "execution_count": 22,
   "id": "dd1c6ac4",
   "metadata": {
    "execution": {
     "iopub.execute_input": "2024-02-10T15:41:21.118465Z",
     "iopub.status.busy": "2024-02-10T15:41:21.117444Z",
     "iopub.status.idle": "2024-02-10T15:41:21.124946Z",
     "shell.execute_reply": "2024-02-10T15:41:21.123810Z"
    },
    "papermill": {
     "duration": 0.02208,
     "end_time": "2024-02-10T15:41:21.127203",
     "exception": false,
     "start_time": "2024-02-10T15:41:21.105123",
     "status": "completed"
    },
    "tags": []
   },
   "outputs": [
    {
     "data": {
      "text/plain": [
       "(5728, 37303)"
      ]
     },
     "execution_count": 22,
     "metadata": {},
     "output_type": "execute_result"
    }
   ],
   "source": [
    "spamham_countvectorizer.shape"
   ]
  },
  {
   "cell_type": "code",
   "execution_count": 23,
   "id": "a4b881bc",
   "metadata": {
    "execution": {
     "iopub.execute_input": "2024-02-10T15:41:21.151542Z",
     "iopub.status.busy": "2024-02-10T15:41:21.150726Z",
     "iopub.status.idle": "2024-02-10T15:41:21.155854Z",
     "shell.execute_reply": "2024-02-10T15:41:21.154677Z"
    },
    "papermill": {
     "duration": 0.019679,
     "end_time": "2024-02-10T15:41:21.158102",
     "exception": false,
     "start_time": "2024-02-10T15:41:21.138423",
     "status": "completed"
    },
    "tags": []
   },
   "outputs": [],
   "source": [
    "label=spam_df['spam'].values"
   ]
  },
  {
   "cell_type": "code",
   "execution_count": 24,
   "id": "f1eea1bc",
   "metadata": {
    "execution": {
     "iopub.execute_input": "2024-02-10T15:41:21.182462Z",
     "iopub.status.busy": "2024-02-10T15:41:21.182022Z",
     "iopub.status.idle": "2024-02-10T15:41:21.189017Z",
     "shell.execute_reply": "2024-02-10T15:41:21.187945Z"
    },
    "papermill": {
     "duration": 0.022215,
     "end_time": "2024-02-10T15:41:21.191317",
     "exception": false,
     "start_time": "2024-02-10T15:41:21.169102",
     "status": "completed"
    },
    "tags": []
   },
   "outputs": [
    {
     "data": {
      "text/plain": [
       "array([1, 1, 1, ..., 0, 0, 0])"
      ]
     },
     "execution_count": 24,
     "metadata": {},
     "output_type": "execute_result"
    }
   ],
   "source": [
    "label"
   ]
  },
  {
   "cell_type": "code",
   "execution_count": 25,
   "id": "dce6251d",
   "metadata": {
    "execution": {
     "iopub.execute_input": "2024-02-10T15:41:21.215752Z",
     "iopub.status.busy": "2024-02-10T15:41:21.215294Z",
     "iopub.status.idle": "2024-02-10T15:41:21.239467Z",
     "shell.execute_reply": "2024-02-10T15:41:21.238291Z"
    },
    "papermill": {
     "duration": 0.039434,
     "end_time": "2024-02-10T15:41:21.241864",
     "exception": false,
     "start_time": "2024-02-10T15:41:21.202430",
     "status": "completed"
    },
    "tags": []
   },
   "outputs": [
    {
     "data": {
      "text/html": [
       "<style>#sk-container-id-1 {color: black;background-color: white;}#sk-container-id-1 pre{padding: 0;}#sk-container-id-1 div.sk-toggleable {background-color: white;}#sk-container-id-1 label.sk-toggleable__label {cursor: pointer;display: block;width: 100%;margin-bottom: 0;padding: 0.3em;box-sizing: border-box;text-align: center;}#sk-container-id-1 label.sk-toggleable__label-arrow:before {content: \"▸\";float: left;margin-right: 0.25em;color: #696969;}#sk-container-id-1 label.sk-toggleable__label-arrow:hover:before {color: black;}#sk-container-id-1 div.sk-estimator:hover label.sk-toggleable__label-arrow:before {color: black;}#sk-container-id-1 div.sk-toggleable__content {max-height: 0;max-width: 0;overflow: hidden;text-align: left;background-color: #f0f8ff;}#sk-container-id-1 div.sk-toggleable__content pre {margin: 0.2em;color: black;border-radius: 0.25em;background-color: #f0f8ff;}#sk-container-id-1 input.sk-toggleable__control:checked~div.sk-toggleable__content {max-height: 200px;max-width: 100%;overflow: auto;}#sk-container-id-1 input.sk-toggleable__control:checked~label.sk-toggleable__label-arrow:before {content: \"▾\";}#sk-container-id-1 div.sk-estimator input.sk-toggleable__control:checked~label.sk-toggleable__label {background-color: #d4ebff;}#sk-container-id-1 div.sk-label input.sk-toggleable__control:checked~label.sk-toggleable__label {background-color: #d4ebff;}#sk-container-id-1 input.sk-hidden--visually {border: 0;clip: rect(1px 1px 1px 1px);clip: rect(1px, 1px, 1px, 1px);height: 1px;margin: -1px;overflow: hidden;padding: 0;position: absolute;width: 1px;}#sk-container-id-1 div.sk-estimator {font-family: monospace;background-color: #f0f8ff;border: 1px dotted black;border-radius: 0.25em;box-sizing: border-box;margin-bottom: 0.5em;}#sk-container-id-1 div.sk-estimator:hover {background-color: #d4ebff;}#sk-container-id-1 div.sk-parallel-item::after {content: \"\";width: 100%;border-bottom: 1px solid gray;flex-grow: 1;}#sk-container-id-1 div.sk-label:hover label.sk-toggleable__label {background-color: #d4ebff;}#sk-container-id-1 div.sk-serial::before {content: \"\";position: absolute;border-left: 1px solid gray;box-sizing: border-box;top: 0;bottom: 0;left: 50%;z-index: 0;}#sk-container-id-1 div.sk-serial {display: flex;flex-direction: column;align-items: center;background-color: white;padding-right: 0.2em;padding-left: 0.2em;position: relative;}#sk-container-id-1 div.sk-item {position: relative;z-index: 1;}#sk-container-id-1 div.sk-parallel {display: flex;align-items: stretch;justify-content: center;background-color: white;position: relative;}#sk-container-id-1 div.sk-item::before, #sk-container-id-1 div.sk-parallel-item::before {content: \"\";position: absolute;border-left: 1px solid gray;box-sizing: border-box;top: 0;bottom: 0;left: 50%;z-index: -1;}#sk-container-id-1 div.sk-parallel-item {display: flex;flex-direction: column;z-index: 1;position: relative;background-color: white;}#sk-container-id-1 div.sk-parallel-item:first-child::after {align-self: flex-end;width: 50%;}#sk-container-id-1 div.sk-parallel-item:last-child::after {align-self: flex-start;width: 50%;}#sk-container-id-1 div.sk-parallel-item:only-child::after {width: 0;}#sk-container-id-1 div.sk-dashed-wrapped {border: 1px dashed gray;margin: 0 0.4em 0.5em 0.4em;box-sizing: border-box;padding-bottom: 0.4em;background-color: white;}#sk-container-id-1 div.sk-label label {font-family: monospace;font-weight: bold;display: inline-block;line-height: 1.2em;}#sk-container-id-1 div.sk-label-container {text-align: center;}#sk-container-id-1 div.sk-container {/* jupyter's `normalize.less` sets `[hidden] { display: none; }` but bootstrap.min.css set `[hidden] { display: none !important; }` so we also need the `!important` here to be able to override the default hidden behavior on the sphinx rendered scikit-learn.org. See: https://github.com/scikit-learn/scikit-learn/issues/21755 */display: inline-block !important;position: relative;}#sk-container-id-1 div.sk-text-repr-fallback {display: none;}</style><div id=\"sk-container-id-1\" class=\"sk-top-container\"><div class=\"sk-text-repr-fallback\"><pre>MultinomialNB()</pre><b>In a Jupyter environment, please rerun this cell to show the HTML representation or trust the notebook. <br />On GitHub, the HTML representation is unable to render, please try loading this page with nbviewer.org.</b></div><div class=\"sk-container\" hidden><div class=\"sk-item\"><div class=\"sk-estimator sk-toggleable\"><input class=\"sk-toggleable__control sk-hidden--visually\" id=\"sk-estimator-id-1\" type=\"checkbox\" checked><label for=\"sk-estimator-id-1\" class=\"sk-toggleable__label sk-toggleable__label-arrow\">MultinomialNB</label><div class=\"sk-toggleable__content\"><pre>MultinomialNB()</pre></div></div></div></div></div>"
      ],
      "text/plain": [
       "MultinomialNB()"
      ]
     },
     "execution_count": 25,
     "metadata": {},
     "output_type": "execute_result"
    }
   ],
   "source": [
    "\n",
    "from sklearn.naive_bayes import MultinomialNB\n",
    "NB_classifier = MultinomialNB()\n",
    "NB_classifier.fit(spamham_countvectorizer,label)"
   ]
  },
  {
   "cell_type": "code",
   "execution_count": 26,
   "id": "105920b0",
   "metadata": {
    "execution": {
     "iopub.execute_input": "2024-02-10T15:41:21.267940Z",
     "iopub.status.busy": "2024-02-10T15:41:21.267467Z",
     "iopub.status.idle": "2024-02-10T15:41:21.273619Z",
     "shell.execute_reply": "2024-02-10T15:41:21.272374Z"
    },
    "papermill": {
     "duration": 0.021974,
     "end_time": "2024-02-10T15:41:21.275931",
     "exception": false,
     "start_time": "2024-02-10T15:41:21.253957",
     "status": "completed"
    },
    "tags": []
   },
   "outputs": [],
   "source": [
    "testing_sample =['Free money!!!', 'Hi Kim, please let me know if you need any further information.']\n",
    "testing_sample_countvectorizer = vectorizer.transform(testing_sample)"
   ]
  },
  {
   "cell_type": "code",
   "execution_count": 27,
   "id": "a520b4b8",
   "metadata": {
    "execution": {
     "iopub.execute_input": "2024-02-10T15:41:21.301670Z",
     "iopub.status.busy": "2024-02-10T15:41:21.301168Z",
     "iopub.status.idle": "2024-02-10T15:41:21.309866Z",
     "shell.execute_reply": "2024-02-10T15:41:21.308759Z"
    },
    "papermill": {
     "duration": 0.024462,
     "end_time": "2024-02-10T15:41:21.312196",
     "exception": false,
     "start_time": "2024-02-10T15:41:21.287734",
     "status": "completed"
    },
    "tags": []
   },
   "outputs": [
    {
     "data": {
      "text/plain": [
       "array([1, 0])"
      ]
     },
     "execution_count": 27,
     "metadata": {},
     "output_type": "execute_result"
    }
   ],
   "source": [
    "test_predict=NB_classifier.predict(testing_sample_countvectorizer)\n",
    "test_predict"
   ]
  },
  {
   "cell_type": "code",
   "execution_count": 28,
   "id": "01a81723",
   "metadata": {
    "execution": {
     "iopub.execute_input": "2024-02-10T15:41:21.337401Z",
     "iopub.status.busy": "2024-02-10T15:41:21.336873Z",
     "iopub.status.idle": "2024-02-10T15:41:21.346671Z",
     "shell.execute_reply": "2024-02-10T15:41:21.345504Z"
    },
    "papermill": {
     "duration": 0.025028,
     "end_time": "2024-02-10T15:41:21.349016",
     "exception": false,
     "start_time": "2024-02-10T15:41:21.323988",
     "status": "completed"
    },
    "tags": []
   },
   "outputs": [
    {
     "data": {
      "text/plain": [
       "array([0, 1])"
      ]
     },
     "execution_count": 28,
     "metadata": {},
     "output_type": "execute_result"
    }
   ],
   "source": [
    "testing_sample =['Hello I am Ryan, I would like to book a hotel in Bali by January 24th', 'money is viagra!!!']\n",
    "testing_sample_countvectorizer = vectorizer.transform(testing_sample)\n",
    "test_predict=NB_classifier.predict(testing_sample_countvectorizer)\n",
    "test_predict"
   ]
  },
  {
   "cell_type": "code",
   "execution_count": 29,
   "id": "59575349",
   "metadata": {
    "execution": {
     "iopub.execute_input": "2024-02-10T15:41:21.374461Z",
     "iopub.status.busy": "2024-02-10T15:41:21.373985Z",
     "iopub.status.idle": "2024-02-10T15:41:21.378979Z",
     "shell.execute_reply": "2024-02-10T15:41:21.377790Z"
    },
    "papermill": {
     "duration": 0.020269,
     "end_time": "2024-02-10T15:41:21.381179",
     "exception": false,
     "start_time": "2024-02-10T15:41:21.360910",
     "status": "completed"
    },
    "tags": []
   },
   "outputs": [],
   "source": [
    "X=spamham_countvectorizer\n",
    "y=label"
   ]
  },
  {
   "cell_type": "code",
   "execution_count": 30,
   "id": "1db756fb",
   "metadata": {
    "execution": {
     "iopub.execute_input": "2024-02-10T15:41:21.407180Z",
     "iopub.status.busy": "2024-02-10T15:41:21.406748Z",
     "iopub.status.idle": "2024-02-10T15:41:21.412614Z",
     "shell.execute_reply": "2024-02-10T15:41:21.411835Z"
    },
    "papermill": {
     "duration": 0.021768,
     "end_time": "2024-02-10T15:41:21.414789",
     "exception": false,
     "start_time": "2024-02-10T15:41:21.393021",
     "status": "completed"
    },
    "tags": []
   },
   "outputs": [
    {
     "data": {
      "text/plain": [
       "(5728, 37303)"
      ]
     },
     "execution_count": 30,
     "metadata": {},
     "output_type": "execute_result"
    }
   ],
   "source": [
    "X.shape"
   ]
  },
  {
   "cell_type": "code",
   "execution_count": 31,
   "id": "74355748",
   "metadata": {
    "execution": {
     "iopub.execute_input": "2024-02-10T15:41:21.441425Z",
     "iopub.status.busy": "2024-02-10T15:41:21.440578Z",
     "iopub.status.idle": "2024-02-10T15:41:21.540774Z",
     "shell.execute_reply": "2024-02-10T15:41:21.539729Z"
    },
    "papermill": {
     "duration": 0.11671,
     "end_time": "2024-02-10T15:41:21.543571",
     "exception": false,
     "start_time": "2024-02-10T15:41:21.426861",
     "status": "completed"
    },
    "tags": []
   },
   "outputs": [],
   "source": [
    "from sklearn.model_selection import train_test_split\n",
    "X_train, X_test, y_train, y_test = train_test_split(X,y,test_size=0.2)"
   ]
  },
  {
   "cell_type": "code",
   "execution_count": 32,
   "id": "a2520825",
   "metadata": {
    "execution": {
     "iopub.execute_input": "2024-02-10T15:41:21.570336Z",
     "iopub.status.busy": "2024-02-10T15:41:21.569008Z",
     "iopub.status.idle": "2024-02-10T15:41:21.591096Z",
     "shell.execute_reply": "2024-02-10T15:41:21.589852Z"
    },
    "papermill": {
     "duration": 0.038293,
     "end_time": "2024-02-10T15:41:21.593814",
     "exception": false,
     "start_time": "2024-02-10T15:41:21.555521",
     "status": "completed"
    },
    "tags": []
   },
   "outputs": [
    {
     "data": {
      "text/html": [
       "<style>#sk-container-id-2 {color: black;background-color: white;}#sk-container-id-2 pre{padding: 0;}#sk-container-id-2 div.sk-toggleable {background-color: white;}#sk-container-id-2 label.sk-toggleable__label {cursor: pointer;display: block;width: 100%;margin-bottom: 0;padding: 0.3em;box-sizing: border-box;text-align: center;}#sk-container-id-2 label.sk-toggleable__label-arrow:before {content: \"▸\";float: left;margin-right: 0.25em;color: #696969;}#sk-container-id-2 label.sk-toggleable__label-arrow:hover:before {color: black;}#sk-container-id-2 div.sk-estimator:hover label.sk-toggleable__label-arrow:before {color: black;}#sk-container-id-2 div.sk-toggleable__content {max-height: 0;max-width: 0;overflow: hidden;text-align: left;background-color: #f0f8ff;}#sk-container-id-2 div.sk-toggleable__content pre {margin: 0.2em;color: black;border-radius: 0.25em;background-color: #f0f8ff;}#sk-container-id-2 input.sk-toggleable__control:checked~div.sk-toggleable__content {max-height: 200px;max-width: 100%;overflow: auto;}#sk-container-id-2 input.sk-toggleable__control:checked~label.sk-toggleable__label-arrow:before {content: \"▾\";}#sk-container-id-2 div.sk-estimator input.sk-toggleable__control:checked~label.sk-toggleable__label {background-color: #d4ebff;}#sk-container-id-2 div.sk-label input.sk-toggleable__control:checked~label.sk-toggleable__label {background-color: #d4ebff;}#sk-container-id-2 input.sk-hidden--visually {border: 0;clip: rect(1px 1px 1px 1px);clip: rect(1px, 1px, 1px, 1px);height: 1px;margin: -1px;overflow: hidden;padding: 0;position: absolute;width: 1px;}#sk-container-id-2 div.sk-estimator {font-family: monospace;background-color: #f0f8ff;border: 1px dotted black;border-radius: 0.25em;box-sizing: border-box;margin-bottom: 0.5em;}#sk-container-id-2 div.sk-estimator:hover {background-color: #d4ebff;}#sk-container-id-2 div.sk-parallel-item::after {content: \"\";width: 100%;border-bottom: 1px solid gray;flex-grow: 1;}#sk-container-id-2 div.sk-label:hover label.sk-toggleable__label {background-color: #d4ebff;}#sk-container-id-2 div.sk-serial::before {content: \"\";position: absolute;border-left: 1px solid gray;box-sizing: border-box;top: 0;bottom: 0;left: 50%;z-index: 0;}#sk-container-id-2 div.sk-serial {display: flex;flex-direction: column;align-items: center;background-color: white;padding-right: 0.2em;padding-left: 0.2em;position: relative;}#sk-container-id-2 div.sk-item {position: relative;z-index: 1;}#sk-container-id-2 div.sk-parallel {display: flex;align-items: stretch;justify-content: center;background-color: white;position: relative;}#sk-container-id-2 div.sk-item::before, #sk-container-id-2 div.sk-parallel-item::before {content: \"\";position: absolute;border-left: 1px solid gray;box-sizing: border-box;top: 0;bottom: 0;left: 50%;z-index: -1;}#sk-container-id-2 div.sk-parallel-item {display: flex;flex-direction: column;z-index: 1;position: relative;background-color: white;}#sk-container-id-2 div.sk-parallel-item:first-child::after {align-self: flex-end;width: 50%;}#sk-container-id-2 div.sk-parallel-item:last-child::after {align-self: flex-start;width: 50%;}#sk-container-id-2 div.sk-parallel-item:only-child::after {width: 0;}#sk-container-id-2 div.sk-dashed-wrapped {border: 1px dashed gray;margin: 0 0.4em 0.5em 0.4em;box-sizing: border-box;padding-bottom: 0.4em;background-color: white;}#sk-container-id-2 div.sk-label label {font-family: monospace;font-weight: bold;display: inline-block;line-height: 1.2em;}#sk-container-id-2 div.sk-label-container {text-align: center;}#sk-container-id-2 div.sk-container {/* jupyter's `normalize.less` sets `[hidden] { display: none; }` but bootstrap.min.css set `[hidden] { display: none !important; }` so we also need the `!important` here to be able to override the default hidden behavior on the sphinx rendered scikit-learn.org. See: https://github.com/scikit-learn/scikit-learn/issues/21755 */display: inline-block !important;position: relative;}#sk-container-id-2 div.sk-text-repr-fallback {display: none;}</style><div id=\"sk-container-id-2\" class=\"sk-top-container\"><div class=\"sk-text-repr-fallback\"><pre>MultinomialNB()</pre><b>In a Jupyter environment, please rerun this cell to show the HTML representation or trust the notebook. <br />On GitHub, the HTML representation is unable to render, please try loading this page with nbviewer.org.</b></div><div class=\"sk-container\" hidden><div class=\"sk-item\"><div class=\"sk-estimator sk-toggleable\"><input class=\"sk-toggleable__control sk-hidden--visually\" id=\"sk-estimator-id-2\" type=\"checkbox\" checked><label for=\"sk-estimator-id-2\" class=\"sk-toggleable__label sk-toggleable__label-arrow\">MultinomialNB</label><div class=\"sk-toggleable__content\"><pre>MultinomialNB()</pre></div></div></div></div></div>"
      ],
      "text/plain": [
       "MultinomialNB()"
      ]
     },
     "execution_count": 32,
     "metadata": {},
     "output_type": "execute_result"
    }
   ],
   "source": [
    "from sklearn.naive_bayes import MultinomialNB\n",
    "NB_classifier = MultinomialNB()\n",
    "NB_classifier.fit(X_train,y_train)"
   ]
  },
  {
   "cell_type": "code",
   "execution_count": 33,
   "id": "3f5c50c6",
   "metadata": {
    "execution": {
     "iopub.execute_input": "2024-02-10T15:41:21.622521Z",
     "iopub.status.busy": "2024-02-10T15:41:21.622029Z",
     "iopub.status.idle": "2024-02-10T15:41:21.627645Z",
     "shell.execute_reply": "2024-02-10T15:41:21.626386Z"
    },
    "papermill": {
     "duration": 0.021748,
     "end_time": "2024-02-10T15:41:21.629955",
     "exception": false,
     "start_time": "2024-02-10T15:41:21.608207",
     "status": "completed"
    },
    "tags": []
   },
   "outputs": [],
   "source": [
    "from sklearn.metrics import classification_report, confusion_matrix\n"
   ]
  },
  {
   "cell_type": "code",
   "execution_count": 34,
   "id": "4c5ea076",
   "metadata": {
    "execution": {
     "iopub.execute_input": "2024-02-10T15:41:21.662241Z",
     "iopub.status.busy": "2024-02-10T15:41:21.661833Z",
     "iopub.status.idle": "2024-02-10T15:41:21.677544Z",
     "shell.execute_reply": "2024-02-10T15:41:21.676628Z"
    },
    "papermill": {
     "duration": 0.033296,
     "end_time": "2024-02-10T15:41:21.679669",
     "exception": false,
     "start_time": "2024-02-10T15:41:21.646373",
     "status": "completed"
    },
    "tags": []
   },
   "outputs": [
    {
     "data": {
      "text/plain": [
       "array([1, 0, 1, ..., 0, 1, 1])"
      ]
     },
     "execution_count": 34,
     "metadata": {},
     "output_type": "execute_result"
    }
   ],
   "source": [
    "y_predict_train = NB_classifier.predict(X_train)\n",
    "y_predict_train"
   ]
  },
  {
   "cell_type": "code",
   "execution_count": 35,
   "id": "26fb7764",
   "metadata": {
    "execution": {
     "iopub.execute_input": "2024-02-10T15:41:21.805700Z",
     "iopub.status.busy": "2024-02-10T15:41:21.804343Z",
     "iopub.status.idle": "2024-02-10T15:41:22.055568Z",
     "shell.execute_reply": "2024-02-10T15:41:22.054218Z"
    },
    "papermill": {
     "duration": 0.36697,
     "end_time": "2024-02-10T15:41:22.059520",
     "exception": false,
     "start_time": "2024-02-10T15:41:21.692550",
     "status": "completed"
    },
    "tags": []
   },
   "outputs": [
    {
     "data": {
      "text/plain": [
       "<Axes: >"
      ]
     },
     "execution_count": 35,
     "metadata": {},
     "output_type": "execute_result"
    },
    {
     "data": {
      "image/png": "[encoded data removed]",
      "text/plain": [
       "<Figure size 640x480 with 2 Axes>"
      ]
     },
     "metadata": {},
     "output_type": "display_data"
    }
   ],
   "source": [
    "cm=confusion_matrix(y_train, y_predict_train)\n",
    "sns.heatmap(cm, annot=True)"
   ]
  },
  {
   "cell_type": "code",
   "execution_count": 36,
   "id": "766f8b6f",
   "metadata": {
    "execution": {
     "iopub.execute_input": "2024-02-10T15:41:22.090680Z",
     "iopub.status.busy": "2024-02-10T15:41:22.089797Z",
     "iopub.status.idle": "2024-02-10T15:41:22.102953Z",
     "shell.execute_reply": "2024-02-10T15:41:22.101965Z"
    },
    "papermill": {
     "duration": 0.032034,
     "end_time": "2024-02-10T15:41:22.106052",
     "exception": false,
     "start_time": "2024-02-10T15:41:22.074018",
     "status": "completed"
    },
    "tags": []
   },
   "outputs": [
    {
     "data": {
      "text/plain": [
       "array([0, 1, 0, ..., 0, 0, 0])"
      ]
     },
     "execution_count": 36,
     "metadata": {},
     "output_type": "execute_result"
    }
   ],
   "source": [
    "y_predict_test = NB_classifier.predict(X_test)\n",
    "y_predict_test"
   ]
  },
  {
   "cell_type": "code",
   "execution_count": 37,
   "id": "e6d257c7",
   "metadata": {
    "execution": {
     "iopub.execute_input": "2024-02-10T15:41:22.137905Z",
     "iopub.status.busy": "2024-02-10T15:41:22.137485Z",
     "iopub.status.idle": "2024-02-10T15:41:22.387335Z",
     "shell.execute_reply": "2024-02-10T15:41:22.386138Z"
    },
    "papermill": {
     "duration": 0.267407,
     "end_time": "2024-02-10T15:41:22.389884",
     "exception": false,
     "start_time": "2024-02-10T15:41:22.122477",
     "status": "completed"
    },
    "tags": []
   },
   "outputs": [
    {
     "data": {
      "text/plain": [
       "<Axes: >"
      ]
     },
     "execution_count": 37,
     "metadata": {},
     "output_type": "execute_result"
    },
    {
     "data": {
      "image/png": "[encoded data removed]",
      "text/plain": [
       "<Figure size 640x480 with 2 Axes>"
      ]
     },
     "metadata": {},
     "output_type": "display_data"
    }
   ],
   "source": [
    "cm=confusion_matrix(y_test, y_predict_test)\n",
    "sns.heatmap(cm, annot=True)"
   ]
  },
  {
   "cell_type": "code",
   "execution_count": 38,
   "id": "646ede93",
   "metadata": {
    "execution": {
     "iopub.execute_input": "2024-02-10T15:41:22.418368Z",
     "iopub.status.busy": "2024-02-10T15:41:22.417892Z",
     "iopub.status.idle": "2024-02-10T15:41:22.434894Z",
     "shell.execute_reply": "2024-02-10T15:41:22.433610Z"
    },
    "papermill": {
     "duration": 0.034113,
     "end_time": "2024-02-10T15:41:22.437321",
     "exception": false,
     "start_time": "2024-02-10T15:41:22.403208",
     "status": "completed"
    },
    "tags": []
   },
   "outputs": [
    {
     "name": "stdout",
     "output_type": "stream",
     "text": [
      "              precision    recall  f1-score   support\n",
      "\n",
      "           0       1.00      0.99      0.99       880\n",
      "           1       0.96      0.99      0.97       266\n",
      "\n",
      "    accuracy                           0.99      1146\n",
      "   macro avg       0.98      0.99      0.98      1146\n",
      "weighted avg       0.99      0.99      0.99      1146\n",
      "\n"
     ]
    }
   ],
   "source": [
    "print(classification_report(y_test, y_predict_test))"
   ]
  }
 ],
 "metadata": {
  "kaggle": {
   "accelerator": "none",
   "dataSources": [
    {
     "datasetId": 4425019,
     "sourceId": 7601242,
     "sourceType": "datasetVersion"
    }
   ],
   "dockerImageVersionId": 30646,
   "isGpuEnabled": false,
   "isInternetEnabled": true,
   "language": "python",
   "sourceType": "notebook"
  },
  "kernelspec": {
   "display_name": "Python 3",
   "language": "python",
   "name": "python3"
  },
  "language_info": {
   "codemirror_mode": {
    "name": "ipython",
    "version": 3
   },
   "file_extension": ".py",
   "mimetype": "text/x-python",
   "name": "python",
   "nbconvert_exporter": "python",
   "pygments_lexer": "ipython3",
   "version": "3.10.13"
  },
  "papermill": {
   "default_parameters": {},
   "duration": 11.195262,
   "end_time": "2024-02-10T15:41:23.275811",
   "environment_variables": {},
   "exception": null,
   "input_path": "__notebook__.ipynb",
   "output_path": "__notebook__.ipynb",
   "parameters": {},
   "start_time": "2024-02-10T15:41:12.080549",
   "version": "2.5.0"
  }
 },
 "nbformat": 4,
 "nbformat_minor": 5
}
